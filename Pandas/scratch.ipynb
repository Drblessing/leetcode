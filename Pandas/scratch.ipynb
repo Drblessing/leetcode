{
 "cells": [
  {
   "cell_type": "code",
   "execution_count": 25,
   "metadata": {},
   "outputs": [
    {
     "data": {
      "text/plain": [
       "0     True\n",
       "1    False\n",
       "2     True\n",
       "3    False\n",
       "Name: id, dtype: bool"
      ]
     },
     "execution_count": 25,
     "metadata": {},
     "output_type": "execute_result"
    }
   ],
   "source": [
    "\"\"\"\n",
    "| id | name  |\n",
    "| -- | ----- |\n",
    "| 1  | Joe   |\n",
    "| 2  | Henry |\n",
    "| 3  | Sam   |\n",
    "| 4  | Max   |\n",
    "\n",
    "| id | customerId |\n",
    "| -- | ---------- |\n",
    "| 1  | 3          |\n",
    "| 2  | 1          |\n",
    "\"\"\"\n",
    "\n",
    "import pandas as pd\n",
    "\n",
    "customers = [\n",
    "    {\"id\": 1, \"name\": \"Joe\"},\n",
    "    {\"id\": 2, \"name\": \"Henry\"},\n",
    "    {\"id\": 3, \"name\": \"Sam\"},\n",
    "    {\"id\": 4, \"name\": \"Max\"},\n",
    "]\n",
    "\n",
    "orders = [\n",
    "    {\"id\": 1, \"customerId\": 3},\n",
    "    {\"id\": 2, \"customerId\": 1},\n",
    "]\n",
    "\n",
    "customers = pd.DataFrame(customers)\n",
    "orders = pd.DataFrame(orders)\n",
    "\n",
    "\n",
    "customers[\"id\"].isin(orders[\"customerId\"])"
   ]
  }
 ],
 "metadata": {
  "kernelspec": {
   "display_name": ".venv",
   "language": "python",
   "name": "python3"
  },
  "language_info": {
   "codemirror_mode": {
    "name": "ipython",
    "version": 3
   },
   "file_extension": ".py",
   "mimetype": "text/x-python",
   "name": "python",
   "nbconvert_exporter": "python",
   "pygments_lexer": "ipython3",
   "version": "3.13.0"
  }
 },
 "nbformat": 4,
 "nbformat_minor": 2
}
