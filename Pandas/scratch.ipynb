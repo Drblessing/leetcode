{
 "cells": [
  {
   "cell_type": "code",
   "execution_count": 4,
   "metadata": {},
   "outputs": [
    {
     "data": {
      "text/plain": [
       "0     True\n",
       "1    False\n",
       "2     True\n",
       "3    False\n",
       "Name: id, dtype: bool"
      ]
     },
     "execution_count": 4,
     "metadata": {},
     "output_type": "execute_result"
    }
   ],
   "source": [
    "\"\"\"\n",
    "| id | name  |\n",
    "| -- | ----- |\n",
    "| 1  | Joe   |\n",
    "| 2  | Henry |\n",
    "| 3  | Sam   |\n",
    "| 4  | Max   |\n",
    "\n",
    "| id | customerId |\n",
    "| -- | ---------- |\n",
    "| 1  | 3          |\n",
    "| 2  | 1          |\n",
    "\"\"\"\n",
    "\n",
    "import pandas as pd\n",
    "\n",
    "customers = [\n",
    "    {\"id\": 1, \"name\": \"Joe\"},\n",
    "    {\"id\": 2, \"name\": \"Henry\"},\n",
    "    {\"id\": 3, \"name\": \"Sam\"},\n",
    "    {\"id\": 4, \"name\": \"Max\"},\n",
    "]\n",
    "\n",
    "orders = [\n",
    "    {\"id\": 1, \"customerId\": 3},\n",
    "    {\"id\": 2, \"customerId\": 1},\n",
    "]\n",
    "\n",
    "customers = pd.DataFrame(customers)\n",
    "orders = pd.DataFrame(orders)\n",
    "\n",
    "\n",
    "customers[\"id\"].isin(orders[\"customerId\"])"
   ]
  },
  {
   "cell_type": "code",
   "execution_count": 5,
   "metadata": {},
   "outputs": [
    {
     "data": {
      "text/html": [
       "<div>\n",
       "<style scoped>\n",
       "    .dataframe tbody tr th:only-of-type {\n",
       "        vertical-align: middle;\n",
       "    }\n",
       "\n",
       "    .dataframe tbody tr th {\n",
       "        vertical-align: top;\n",
       "    }\n",
       "\n",
       "    .dataframe thead th {\n",
       "        text-align: right;\n",
       "    }\n",
       "</style>\n",
       "<table border=\"1\" class=\"dataframe\">\n",
       "  <thead>\n",
       "    <tr style=\"text-align: right;\">\n",
       "      <th></th>\n",
       "      <th>author_id</th>\n",
       "    </tr>\n",
       "  </thead>\n",
       "  <tbody>\n",
       "    <tr>\n",
       "      <th>1</th>\n",
       "      <td>4</td>\n",
       "    </tr>\n",
       "    <tr>\n",
       "      <th>0</th>\n",
       "      <td>7</td>\n",
       "    </tr>\n",
       "  </tbody>\n",
       "</table>\n",
       "</div>"
      ],
      "text/plain": [
       "   author_id\n",
       "1          4\n",
       "0          7"
      ]
     },
     "execution_count": 5,
     "metadata": {},
     "output_type": "execute_result"
    }
   ],
   "source": [
    "\"\"\"\n",
    "Views table:\n",
    "+------------+-----------+-----------+------------+\n",
    "| article_id | author_id | viewer_id | view_date  |\n",
    "+------------+-----------+-----------+------------+\n",
    "| 1          | 3         | 5         | 2019-08-01 |\n",
    "| 1          | 3         | 6         | 2019-08-02 |\n",
    "| 2          | 7         | 7         | 2019-08-01 |\n",
    "| 2          | 7         | 6         | 2019-08-02 |\n",
    "| 4          | 7         | 1         | 2019-07-22 |\n",
    "| 3          | 4         | 4         | 2019-07-21 |\n",
    "| 3          | 4         | 4         | 2019-07-21 |\n",
    "+------------+-----------+-----------+------------+\n",
    "\"\"\"\n",
    "\n",
    "views = [\n",
    "    {\"article_id\": 1, \"author_id\": 3, \"viewer_id\": 5, \"view_date\": \"2019-08-01\"},\n",
    "    {\"article_id\": 1, \"author_id\": 3, \"viewer_id\": 6, \"view_date\": \"2019-08-02\"},\n",
    "    {\"article_id\": 2, \"author_id\": 7, \"viewer_id\": 7, \"view_date\": \"2019-08-01\"},\n",
    "    {\"article_id\": 2, \"author_id\": 7, \"viewer_id\": 6, \"view_date\": \"2019-08-02\"},\n",
    "    {\"article_id\": 4, \"author_id\": 7, \"viewer_id\": 1, \"view_date\": \"2019-07-22\"},\n",
    "    {\"article_id\": 3, \"author_id\": 4, \"viewer_id\": 4, \"view_date\": \"2019-07-21\"},\n",
    "    {\"article_id\": 3, \"author_id\": 4, \"viewer_id\": 4, \"view_date\": \"2019-07-21\"},\n",
    "]\n",
    "\n",
    "views = pd.DataFrame(views)\n",
    "\n",
    "# Find the authors who viewed at least one of their own articles\n",
    "df = views[views[\"author_id\"] == views[\"viewer_id\"]][[\"author_id\"]].reset_index(\n",
    "    drop=True\n",
    ")\n",
    "df.drop_duplicates(inplace=True)\n",
    "df.sort_values(\"author_id\", inplace=True)\n",
    "df"
   ]
  },
  {
   "cell_type": "code",
   "execution_count": 6,
   "metadata": {},
   "outputs": [
    {
     "data": {
      "text/html": [
       "<div>\n",
       "<style scoped>\n",
       "    .dataframe tbody tr th:only-of-type {\n",
       "        vertical-align: middle;\n",
       "    }\n",
       "\n",
       "    .dataframe tbody tr th {\n",
       "        vertical-align: top;\n",
       "    }\n",
       "\n",
       "    .dataframe thead th {\n",
       "        text-align: right;\n",
       "    }\n",
       "</style>\n",
       "<table border=\"1\" class=\"dataframe\">\n",
       "  <thead>\n",
       "    <tr style=\"text-align: right;\">\n",
       "      <th></th>\n",
       "      <th>tweet_id</th>\n",
       "    </tr>\n",
       "  </thead>\n",
       "  <tbody>\n",
       "    <tr>\n",
       "      <th>1</th>\n",
       "      <td>2</td>\n",
       "    </tr>\n",
       "  </tbody>\n",
       "</table>\n",
       "</div>"
      ],
      "text/plain": [
       "   tweet_id\n",
       "1         2"
      ]
     },
     "execution_count": 6,
     "metadata": {},
     "output_type": "execute_result"
    }
   ],
   "source": [
    "\"\"\"\n",
    "| tweet_id | content                           |\n",
    "| -------- | --------------------------------- |\n",
    "| 1        | Let us Code                       |\n",
    "| 2        | More than fifteen chars are here! |\n",
    "\"\"\"\n",
    "\n",
    "tweets = [\n",
    "    {\"tweet_id\": 1, \"content\": \"Let us Code\"},\n",
    "    {\"tweet_id\": 2, \"content\": \"More than fifteen chars are here!\"},\n",
    "]\n",
    "\n",
    "tweets = pd.DataFrame(tweets)\n",
    "\n",
    "tweets[tweets[\"content\"].str.len() > 15][[\"tweet_id\"]]"
   ]
  },
  {
   "cell_type": "code",
   "execution_count": 7,
   "metadata": {},
   "outputs": [
    {
     "data": {
      "text/plain": [
       "0       0\n",
       "1       0\n",
       "2    7400\n",
       "3       0\n",
       "4    7700\n",
       "dtype: int64"
      ]
     },
     "execution_count": 7,
     "metadata": {},
     "output_type": "execute_result"
    }
   ],
   "source": [
    "\"\"\"\n",
    "Employees table:\n",
    "+-------------+---------+--------+\n",
    "| employee_id | name    | salary |\n",
    "+-------------+---------+--------+\n",
    "| 2           | Meir    | 3000   |\n",
    "| 3           | Michael | 3800   |\n",
    "| 7           | Addilyn | 7400   |\n",
    "| 8           | Juan    | 6100   |\n",
    "| 9           | Kannon  | 7700   |\n",
    "+-------------+---------+--------+\n",
    "\"\"\"\n",
    "\n",
    "employees = [\n",
    "    {\"employee_id\": 2, \"name\": \"Meir\", \"salary\": 3000},\n",
    "    {\"employee_id\": 3, \"name\": \"Michael\", \"salary\": 3800},\n",
    "    {\"employee_id\": 7, \"name\": \"Addilyn\", \"salary\": 7400},\n",
    "    {\"employee_id\": 8, \"name\": \"Juan\", \"salary\": 6100},\n",
    "    {\"employee_id\": 9, \"name\": \"Kannon\", \"salary\": 7700},\n",
    "]\n",
    "\n",
    "employees = pd.DataFrame(employees)\n",
    "\n",
    "employees.apply(\n",
    "    lambda x: (x[\"salary\"] if x[\"employee_id\"] % 2 != 0 and x[\"name\"][0] != \"M\" else 0),\n",
    "    axis=1,\n",
    ")"
   ]
  },
  {
   "cell_type": "code",
   "execution_count": 40,
   "metadata": {},
   "outputs": [
    {
     "data": {
      "text/html": [
       "<div>\n",
       "<style scoped>\n",
       "    .dataframe tbody tr th:only-of-type {\n",
       "        vertical-align: middle;\n",
       "    }\n",
       "\n",
       "    .dataframe tbody tr th {\n",
       "        vertical-align: top;\n",
       "    }\n",
       "\n",
       "    .dataframe thead th {\n",
       "        text-align: right;\n",
       "    }\n",
       "</style>\n",
       "<table border=\"1\" class=\"dataframe\">\n",
       "  <thead>\n",
       "    <tr style=\"text-align: right;\">\n",
       "      <th></th>\n",
       "      <th>1</th>\n",
       "    </tr>\n",
       "  </thead>\n",
       "  <tbody>\n",
       "    <tr>\n",
       "      <th>salary</th>\n",
       "      <td>200</td>\n",
       "    </tr>\n",
       "  </tbody>\n",
       "</table>\n",
       "</div>"
      ],
      "text/plain": [
       "          1\n",
       "salary  200"
      ]
     },
     "execution_count": 40,
     "metadata": {},
     "output_type": "execute_result"
    }
   ],
   "source": [
    "\"\"\"\n",
    "Iput: \n",
    "Employee table:\n",
    "+----+--------+\n",
    "| id | salary |\n",
    "+----+--------+\n",
    "| 1  | 100    |\n",
    "| 2  | 200    |\n",
    "| 3  | 300    |\n",
    "+----+--------+\n",
    "\"\"\"\n",
    "\n",
    "employees = [\n",
    "    {\"id\": 1, \"salary\": 100},\n",
    "    {\"id\": 2, \"salary\": 200},\n",
    "    {\"id\": 3, \"salary\": 300},\n",
    "]\n",
    "df = pd.DataFrame(employees)\n",
    "\n",
    "df.sort_values(\"salary\", ascending=False).reset_index(drop=True)\n",
    "N = 2\n",
    "\n",
    "df.iloc[N - 1][[\"salary\"]].to_frame()"
   ]
  },
  {
   "cell_type": "code",
   "execution_count": null,
   "metadata": {},
   "outputs": [],
   "source": []
  }
 ],
 "metadata": {
  "kernelspec": {
   "display_name": ".venv",
   "language": "python",
   "name": "python3"
  },
  "language_info": {
   "codemirror_mode": {
    "name": "ipython",
    "version": 3
   },
   "file_extension": ".py",
   "mimetype": "text/x-python",
   "name": "python",
   "nbconvert_exporter": "python",
   "pygments_lexer": "ipython3",
   "version": "3.13.0"
  }
 },
 "nbformat": 4,
 "nbformat_minor": 2
}
