{
 "cells": [
  {
   "cell_type": "code",
   "execution_count": 28,
   "metadata": {},
   "outputs": [
    {
     "name": "stdout",
     "output_type": "stream",
     "text": [
      "Creatures DataFrame:\n",
      "  Creature           Habitat\n",
      "0  Unicorn  Enchanted Forest\n",
      "1   Dragon    Mountain Peaks\n",
      "2  Phoenix         Volcanoes\n",
      "3  Centaur         Woodlands\n",
      "\n",
      "Abilities DataFrame:\n",
      "  Creature         Ability\n",
      "0   Dragon  Fire Breathing\n",
      "1  Phoenix         Rebirth\n",
      "2  Mermaid      Siren Song\n",
      "3  Unicorn  Healing Powers\n"
     ]
    }
   ],
   "source": [
    "import pandas as pd\n",
    "\n",
    "# DataFrame of creatures and their habitats\n",
    "df_creatures = pd.DataFrame(\n",
    "    {\n",
    "        \"Creature\": [\"Unicorn\", \"Dragon\", \"Phoenix\", \"Centaur\"],\n",
    "        \"Habitat\": [\"Enchanted Forest\", \"Mountain Peaks\", \"Volcanoes\", \"Woodlands\"],\n",
    "    }\n",
    ")\n",
    "\n",
    "# DataFrame of creatures and their abilities\n",
    "df_abilities = pd.DataFrame(\n",
    "    {\n",
    "        \"Creature\": [\"Dragon\", \"Phoenix\", \"Mermaid\", \"Unicorn\"],\n",
    "        \"Ability\": [\"Fire Breathing\", \"Rebirth\", \"Siren Song\", \"Healing Powers\"],\n",
    "    }\n",
    ")\n",
    "\n",
    "print(\"Creatures DataFrame:\")\n",
    "print(df_creatures)\n",
    "print(\"\\nAbilities DataFrame:\")\n",
    "print(df_abilities)"
   ]
  },
  {
   "cell_type": "code",
   "execution_count": 29,
   "metadata": {},
   "outputs": [
    {
     "data": {
      "text/html": [
       "<div>\n",
       "<style scoped>\n",
       "    .dataframe tbody tr th:only-of-type {\n",
       "        vertical-align: middle;\n",
       "    }\n",
       "\n",
       "    .dataframe tbody tr th {\n",
       "        vertical-align: top;\n",
       "    }\n",
       "\n",
       "    .dataframe thead th {\n",
       "        text-align: right;\n",
       "    }\n",
       "</style>\n",
       "<table border=\"1\" class=\"dataframe\">\n",
       "  <thead>\n",
       "    <tr style=\"text-align: right;\">\n",
       "      <th></th>\n",
       "      <th>Creature</th>\n",
       "      <th>Habitat</th>\n",
       "      <th>Ability</th>\n",
       "    </tr>\n",
       "  </thead>\n",
       "  <tbody>\n",
       "    <tr>\n",
       "      <th>0</th>\n",
       "      <td>Unicorn</td>\n",
       "      <td>Enchanted Forest</td>\n",
       "      <td>Healing Powers</td>\n",
       "    </tr>\n",
       "    <tr>\n",
       "      <th>1</th>\n",
       "      <td>Dragon</td>\n",
       "      <td>Mountain Peaks</td>\n",
       "      <td>Fire Breathing</td>\n",
       "    </tr>\n",
       "    <tr>\n",
       "      <th>2</th>\n",
       "      <td>Phoenix</td>\n",
       "      <td>Volcanoes</td>\n",
       "      <td>Rebirth</td>\n",
       "    </tr>\n",
       "  </tbody>\n",
       "</table>\n",
       "</div>"
      ],
      "text/plain": [
       "  Creature           Habitat         Ability\n",
       "0  Unicorn  Enchanted Forest  Healing Powers\n",
       "1   Dragon    Mountain Peaks  Fire Breathing\n",
       "2  Phoenix         Volcanoes         Rebirth"
      ]
     },
     "execution_count": 29,
     "metadata": {},
     "output_type": "execute_result"
    }
   ],
   "source": [
    "pd.merge(df_creatures, df_abilities)"
   ]
  },
  {
   "cell_type": "code",
   "execution_count": 20,
   "metadata": {},
   "outputs": [
    {
     "name": "stdout",
     "output_type": "stream",
     "text": [
      "\n",
      "Inner Merge:\n",
      "  Creature           Habitat         Ability\n",
      "0  Unicorn  Enchanted Forest  Healing Powers\n",
      "1   Dragon    Mountain Peaks  Fire Breathing\n",
      "2  Phoenix         Volcanoes         Rebirth\n"
     ]
    }
   ],
   "source": [
    "inner_merge = pd.merge(df_creatures, df_abilities, on=\"Creature\", how=\"inner\")\n",
    "print(\"\\nInner Merge:\")\n",
    "print(inner_merge)"
   ]
  },
  {
   "cell_type": "code",
   "execution_count": 21,
   "metadata": {},
   "outputs": [
    {
     "name": "stdout",
     "output_type": "stream",
     "text": [
      "\n",
      "Left Merge:\n",
      "  Creature           Habitat         Ability\n",
      "0  Unicorn  Enchanted Forest  Healing Powers\n",
      "1   Dragon    Mountain Peaks  Fire Breathing\n",
      "2  Phoenix         Volcanoes         Rebirth\n",
      "3  Centaur         Woodlands             NaN\n"
     ]
    }
   ],
   "source": [
    "left_merge = pd.merge(df_creatures, df_abilities, on=\"Creature\", how=\"left\")\n",
    "print(\"\\nLeft Merge:\")\n",
    "print(left_merge)"
   ]
  },
  {
   "cell_type": "code",
   "execution_count": 22,
   "metadata": {},
   "outputs": [
    {
     "name": "stdout",
     "output_type": "stream",
     "text": [
      "\n",
      "Right Merge:\n",
      "  Creature           Habitat         Ability\n",
      "0   Dragon    Mountain Peaks  Fire Breathing\n",
      "1  Phoenix         Volcanoes         Rebirth\n",
      "2  Mermaid               NaN      Siren Song\n",
      "3  Unicorn  Enchanted Forest  Healing Powers\n"
     ]
    }
   ],
   "source": [
    "right_merge = pd.merge(df_creatures, df_abilities, on=\"Creature\", how=\"right\")\n",
    "print(\"\\nRight Merge:\")\n",
    "print(right_merge)"
   ]
  },
  {
   "cell_type": "code",
   "execution_count": 23,
   "metadata": {},
   "outputs": [
    {
     "name": "stdout",
     "output_type": "stream",
     "text": [
      "\n",
      "Outer Merge:\n",
      "  Creature           Habitat         Ability\n",
      "0  Centaur         Woodlands             NaN\n",
      "1   Dragon    Mountain Peaks  Fire Breathing\n",
      "2  Mermaid               NaN      Siren Song\n",
      "3  Phoenix         Volcanoes         Rebirth\n",
      "4  Unicorn  Enchanted Forest  Healing Powers\n"
     ]
    }
   ],
   "source": [
    "outer_merge = pd.merge(df_creatures, df_abilities, on=\"Creature\", how=\"outer\")\n",
    "print(\"\\nOuter Merge:\")\n",
    "print(outer_merge)"
   ]
  },
  {
   "cell_type": "code",
   "execution_count": 24,
   "metadata": {},
   "outputs": [
    {
     "name": "stdout",
     "output_type": "stream",
     "text": [
      "\n",
      "Realms DataFrame:\n",
      "  Creature  Realm       Habitat\n",
      "0  Unicorn  Earth       Forests\n",
      "1   Dragon  Earth     Mountains\n",
      "2  Phoenix    Sky        Clouds\n",
      "3  Mermaid    Sea  Ocean Depths\n",
      "\n",
      "Realm Abilities DataFrame:\n",
      "  Creature  Realm          Ability\n",
      "0  Unicorn  Earth     Purify Water\n",
      "1   Dragon  Earth    Earth Shaping\n",
      "2  Phoenix    Sky   Sun Harnessing\n",
      "3   Dragon    Sky  Storm Summoning\n"
     ]
    }
   ],
   "source": [
    "# Creatures and their realms\n",
    "df_realms = pd.DataFrame(\n",
    "    {\n",
    "        \"Creature\": [\"Unicorn\", \"Dragon\", \"Phoenix\", \"Mermaid\"],\n",
    "        \"Realm\": [\"Earth\", \"Earth\", \"Sky\", \"Sea\"],\n",
    "        \"Habitat\": [\"Forests\", \"Mountains\", \"Clouds\", \"Ocean Depths\"],\n",
    "    }\n",
    ")\n",
    "\n",
    "# Abilities specific to realms\n",
    "df_realm_abilities = pd.DataFrame(\n",
    "    {\n",
    "        \"Creature\": [\"Unicorn\", \"Dragon\", \"Phoenix\", \"Dragon\"],\n",
    "        \"Realm\": [\"Earth\", \"Earth\", \"Sky\", \"Sky\"],\n",
    "        \"Ability\": [\n",
    "            \"Purify Water\",\n",
    "            \"Earth Shaping\",\n",
    "            \"Sun Harnessing\",\n",
    "            \"Storm Summoning\",\n",
    "        ],\n",
    "    }\n",
    ")\n",
    "\n",
    "print(\"\\nRealms DataFrame:\")\n",
    "print(df_realms)\n",
    "print(\"\\nRealm Abilities DataFrame:\")\n",
    "print(df_realm_abilities)"
   ]
  },
  {
   "cell_type": "code",
   "execution_count": 25,
   "metadata": {},
   "outputs": [
    {
     "name": "stdout",
     "output_type": "stream",
     "text": [
      "\n",
      "Merge on Multiple Columns:\n",
      "  Creature  Realm    Habitat         Ability\n",
      "0  Unicorn  Earth    Forests    Purify Water\n",
      "1   Dragon  Earth  Mountains   Earth Shaping\n",
      "2  Phoenix    Sky     Clouds  Sun Harnessing\n"
     ]
    }
   ],
   "source": [
    "multi_key_merge = pd.merge(\n",
    "    df_realms, df_realm_abilities, on=[\"Creature\", \"Realm\"], how=\"inner\"\n",
    ")\n",
    "print(\"\\nMerge on Multiple Columns:\")\n",
    "print(multi_key_merge)"
   ]
  },
  {
   "cell_type": "code",
   "execution_count": 26,
   "metadata": {},
   "outputs": [
    {
     "name": "stdout",
     "output_type": "stream",
     "text": [
      "\n",
      "Attributes DataFrame 1:\n",
      "  Creature  Color   Size\n",
      "0  Unicorn  White  Large\n",
      "1   Dragon    Red   Huge\n",
      "\n",
      "Attributes DataFrame 2:\n",
      "  Creature    Color Magic Level\n",
      "0  Unicorn  Rainbow        High\n",
      "1   Dragon     Gold   Very High\n",
      "\n",
      "Merge with Overlapping Columns:\n",
      "  Creature Color_Attr1   Size Color_Attr2 Magic Level\n",
      "0  Unicorn       White  Large     Rainbow        High\n",
      "1   Dragon         Red   Huge        Gold   Very High\n"
     ]
    }
   ],
   "source": [
    "# Creatures with attributes\n",
    "df_attributes1 = pd.DataFrame(\n",
    "    {\n",
    "        \"Creature\": [\"Unicorn\", \"Dragon\"],\n",
    "        \"Color\": [\"White\", \"Red\"],\n",
    "        \"Size\": [\"Large\", \"Huge\"],\n",
    "    }\n",
    ")\n",
    "\n",
    "df_attributes2 = pd.DataFrame(\n",
    "    {\n",
    "        \"Creature\": [\"Unicorn\", \"Dragon\"],\n",
    "        \"Color\": [\"Rainbow\", \"Gold\"],\n",
    "        \"Magic Level\": [\"High\", \"Very High\"],\n",
    "    }\n",
    ")\n",
    "\n",
    "print(\"\\nAttributes DataFrame 1:\")\n",
    "print(df_attributes1)\n",
    "print(\"\\nAttributes DataFrame 2:\")\n",
    "print(df_attributes2)\n",
    "# Merge with overlapping 'Color' column\n",
    "overlap_merge = pd.merge(\n",
    "    df_attributes1,\n",
    "    df_attributes2,\n",
    "    on=\"Creature\",\n",
    "    how=\"inner\",\n",
    "    suffixes=(\"_Attr1\", \"_Attr2\"),\n",
    ")\n",
    "print(\"\\nMerge with Overlapping Columns:\")\n",
    "print(overlap_merge)"
   ]
  },
  {
   "cell_type": "code",
   "execution_count": null,
   "metadata": {},
   "outputs": [
    {
     "name": "stdout",
     "output_type": "stream",
     "text": [
      "\n",
      "Outer Merge with Missing Data:\n",
      "  Creature           Habitat         Ability\n",
      "0  Centaur         Woodlands     None_string\n",
      "1   Dragon    Mountain Peaks  Fire Breathing\n",
      "2  Mermaid       None_string      Siren Song\n",
      "3  Phoenix         Volcanoes         Rebirth\n",
      "4  Unicorn  Enchanted Forest  Healing Powers\n"
     ]
    }
   ],
   "source": [
    "# Handle missing data in outer merge\n",
    "\n",
    "# Nan gets replb\n",
    "# aced with string 'None'\n",
    "\n",
    "outer_merge = outer_merge.fillna(\"None_string\")\n",
    "print(\"\\nOuter Merge with Missing Data:\")\n",
    "print(outer_merge)"
   ]
  },
  {
   "cell_type": "code",
   "execution_count": null,
   "metadata": {},
   "outputs": [
    {
     "data": {
      "text/html": [
       "<div>\n",
       "<style scoped>\n",
       "    .dataframe tbody tr th:only-of-type {\n",
       "        vertical-align: middle;\n",
       "    }\n",
       "\n",
       "    .dataframe tbody tr th {\n",
       "        vertical-align: top;\n",
       "    }\n",
       "\n",
       "    .dataframe thead th {\n",
       "        text-align: right;\n",
       "    }\n",
       "</style>\n",
       "<table border=\"1\" class=\"dataframe\">\n",
       "  <thead>\n",
       "    <tr style=\"text-align: right;\">\n",
       "      <th></th>\n",
       "      <th>Creature</th>\n",
       "      <th>Habitat</th>\n",
       "    </tr>\n",
       "  </thead>\n",
       "  <tbody>\n",
       "    <tr>\n",
       "      <th>0</th>\n",
       "      <td>Unicorn</td>\n",
       "      <td>Enchanted Forest</td>\n",
       "    </tr>\n",
       "    <tr>\n",
       "      <th>1</th>\n",
       "      <td>Dragon</td>\n",
       "      <td>Mountain Peaks</td>\n",
       "    </tr>\n",
       "    <tr>\n",
       "      <th>2</th>\n",
       "      <td>Phoenix</td>\n",
       "      <td>Volcanoes</td>\n",
       "    </tr>\n",
       "    <tr>\n",
       "      <th>3</th>\n",
       "      <td>Centaur</td>\n",
       "      <td>Woodlands</td>\n",
       "    </tr>\n",
       "  </tbody>\n",
       "</table>\n",
       "</div>"
      ],
      "text/plain": [
       "  Creature           Habitat\n",
       "0  Unicorn  Enchanted Forest\n",
       "1   Dragon    Mountain Peaks\n",
       "2  Phoenix         Volcanoes\n",
       "3  Centaur         Woodlands"
      ]
     },
     "execution_count": 36,
     "metadata": {},
     "output_type": "execute_result"
    }
   ],
   "source": [
    "df_c2 = df_creatures.set_index(\"Creature\")"
   ]
  }
 ],
 "metadata": {
  "kernelspec": {
   "display_name": ".venv",
   "language": "python",
   "name": "python3"
  },
  "language_info": {
   "codemirror_mode": {
    "name": "ipython",
    "version": 3
   },
   "file_extension": ".py",
   "mimetype": "text/x-python",
   "name": "python",
   "nbconvert_exporter": "python",
   "pygments_lexer": "ipython3",
   "version": "3.13.0"
  }
 },
 "nbformat": 4,
 "nbformat_minor": 2
}
