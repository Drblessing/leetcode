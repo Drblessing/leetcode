{
 "cells": [
  {
   "cell_type": "code",
   "execution_count": null,
   "metadata": {},
   "outputs": [
    {
     "name": "stdout",
     "output_type": "stream",
     "text": [
      "Creatures DataFrame:\n",
      "  Creature           Habitat\n",
      "0  Unicorn  Enchanted Forest\n",
      "1   Dragon    Mountain Peaks\n",
      "2  Phoenix         Volcanoes\n",
      "3  Centaur         Woodlands\n",
      "\n",
      "Abilities DataFrame:\n",
      "  Creature         Ability\n",
      "0   Dragon  Fire Breathing\n",
      "1  Phoenix         Rebirth\n",
      "2  Mermaid      Siren Song\n",
      "3  Unicorn  Healing Powers\n"
     ]
    }
   ],
   "source": [
    "import pandas as pd\n",
    "\n",
    "# DataFrame of creatures and their habitats\n",
    "df_creatures = pd.DataFrame(\n",
    "    {\n",
    "        \"Creature\": [\"Unicorn\", \"Dragon\", \"Phoenix\", \"Centaur\"],\n",
    "        \"Habitat\": [\"Enchanted Forest\", \"Mountain Peaks\", \"Volcanoes\", \"Woodlands\"],\n",
    "    }\n",
    ")\n",
    "\n",
    "# DataFrame of creatures and their abilities\n",
    "df_abilities = pd.DataFrame(\n",
    "    {\n",
    "        \"Creature\": [\"Dragon\", \"Phoenix\", \"Mermaid\", \"Unicorn\"],\n",
    "        \"Ability\": [\"Fire Breathing\", \"Rebirth\", \"Siren Song\", \"Healing Powers\"],\n",
    "    }\n",
    ")\n",
    "\n",
    "print(\"Creatures DataFrame:\")\n",
    "print(df_creatures)\n",
    "print(\"\\nAbilities DataFrame:\")\n",
    "print(df_abilities)"
   ]
  },
  {
   "cell_type": "code",
   "execution_count": null,
   "metadata": {},
   "outputs": [
    {
     "name": "stdout",
     "output_type": "stream",
     "text": [
      "\n",
      "Inner Merge:\n",
      "  Creature           Habitat         Ability\n",
      "0  Unicorn  Enchanted Forest  Healing Powers\n",
      "1   Dragon    Mountain Peaks  Fire Breathing\n",
      "2  Phoenix         Volcanoes         Rebirth\n"
     ]
    }
   ],
   "source": [
    "inner_merge = pd.merge(df_creatures, df_abilities, on=\"Creature\", how=\"inner\")\n",
    "print(\"\\nInner Merge:\")\n",
    "print(inner_merge)"
   ]
  },
  {
   "cell_type": "code",
   "execution_count": null,
   "metadata": {},
   "outputs": [
    {
     "name": "stdout",
     "output_type": "stream",
     "text": [
      "\n",
      "Left Merge:\n",
      "  Creature           Habitat         Ability\n",
      "0  Unicorn  Enchanted Forest  Healing Powers\n",
      "1   Dragon    Mountain Peaks  Fire Breathing\n",
      "2  Phoenix         Volcanoes         Rebirth\n",
      "3  Centaur         Woodlands             NaN\n"
     ]
    }
   ],
   "source": [
    "left_merge = pd.merge(df_creatures, df_abilities, on=\"Creature\", how=\"left\")\n",
    "print(\"\\nLeft Merge:\")\n",
    "print(left_merge)"
   ]
  },
  {
   "cell_type": "code",
   "execution_count": null,
   "metadata": {},
   "outputs": [],
   "source": []
  }
 ],
 "metadata": {
  "kernelspec": {
   "display_name": ".venv",
   "language": "python",
   "name": "python3"
  },
  "language_info": {
   "codemirror_mode": {
    "name": "ipython",
    "version": 3
   },
   "file_extension": ".py",
   "mimetype": "text/x-python",
   "name": "python",
   "nbconvert_exporter": "python",
   "pygments_lexer": "ipython3",
   "version": "3.13.0"
  }
 },
 "nbformat": 4,
 "nbformat_minor": 2
}
