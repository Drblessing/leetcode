{
 "cells": [
  {
   "cell_type": "code",
   "execution_count": 1,
   "metadata": {},
   "outputs": [
    {
     "name": "stdout",
     "output_type": "stream",
     "text": [
      "The Zen of Python, by Tim Peters\n",
      "\n",
      "Beautiful is better than ugly.\n",
      "Explicit is better than implicit.\n",
      "Simple is better than complex.\n",
      "Complex is better than complicated.\n",
      "Flat is better than nested.\n",
      "Sparse is better than dense.\n",
      "Readability counts.\n",
      "Special cases aren't special enough to break the rules.\n",
      "Although practicality beats purity.\n",
      "Errors should never pass silently.\n",
      "Unless explicitly silenced.\n",
      "In the face of ambiguity, refuse the temptation to guess.\n",
      "There should be one-- and preferably only one --obvious way to do it.\n",
      "Although that way may not be obvious at first unless you're Dutch.\n",
      "Now is better than never.\n",
      "Although never is often better than *right* now.\n",
      "If the implementation is hard to explain, it's a bad idea.\n",
      "If the implementation is easy to explain, it may be a good idea.\n",
      "Namespaces are one honking great idea -- let's do more of those!\n"
     ]
    }
   ],
   "source": [
    "import this"
   ]
  },
  {
   "cell_type": "code",
   "execution_count": 15,
   "metadata": {},
   "outputs": [
    {
     "data": {
      "text/plain": [
       "[80, 40, 20, 40, 16]"
      ]
     },
     "execution_count": 15,
     "metadata": {},
     "output_type": "execute_result"
    }
   ],
   "source": [
    "# Product except self\n",
    "test = [1, 2, 4, 2, 5]\n",
    "# Calculate forward product\n",
    "forward = [1]\n",
    "for i in range(1, len(test)):\n",
    "    forward.append(forward[-1] * test[i])\n",
    "# Calculate backward product\n",
    "backward = [test[-1]]\n",
    "for i in range(len(test) - 2, -1, -1):\n",
    "    backward.append(backward[-1] * test[i])\n",
    "backward = backward[::-1]\n",
    "# Calculate product except self\n",
    "result = []\n",
    "for i in range(len(test)):\n",
    "    if i == 0:\n",
    "        result.append(backward[i + 1])\n",
    "    elif i == len(test) - 1:\n",
    "        result.append(forward[i - 1])\n",
    "    else:\n",
    "        result.append(forward[i - 1] * backward[i + 1])\n",
    "result"
   ]
  },
  {
   "cell_type": "code",
   "execution_count": 26,
   "metadata": {},
   "outputs": [
    {
     "data": {
      "text/plain": [
       "1"
      ]
     },
     "execution_count": 26,
     "metadata": {},
     "output_type": "execute_result"
    }
   ],
   "source": [
    "#"
   ]
  },
  {
   "cell_type": "code",
   "execution_count": 68,
   "metadata": {},
   "outputs": [
    {
     "data": {
      "text/plain": [
       "(1, [(10, 'asdf'), (20, 'avasdf;lkj'), (30, 'dfvdj')])"
      ]
     },
     "execution_count": 68,
     "metadata": {},
     "output_type": "execute_result"
    }
   ],
   "source": [
    "test = [(10, \"asdf\"), (20, \"avasdf;lkj\"), (30, \"dfvdj\")]\n",
    "\n",
    "test_two = [i[0] for i in test]\n",
    "import bisect\n",
    "\n",
    "i = bisect.bisect(test, (10, \"zzzzzzz\"))\n",
    "\n",
    "i, test"
   ]
  },
  {
   "cell_type": "code",
   "execution_count": 34,
   "metadata": {},
   "outputs": [
    {
     "name": "stdout",
     "output_type": "stream",
     "text": [
      "JOB\n",
      "2 5 50\n",
      "[[0, 0], [2, 100]]\n",
      "1\n",
      "\n",
      "JOB\n",
      "2 5 100\n",
      "[[0, 0], [2, 100], [5, 150]]\n",
      "1\n",
      "\n"
     ]
    }
   ],
   "source": [
    "import bisect\n",
    "\n",
    "dp = [[0, 0], [2, 100]]\n",
    "\n",
    "for s, e, p in [[2, 5, 50], [2, 5, 100]]:\n",
    "    print(\"JOB\")\n",
    "    print(s, e, p)\n",
    "    print(dp)\n",
    "    i = bisect.bisect(dp, [s + 1]) - 1\n",
    "    print(i)\n",
    "    print()\n",
    "    if dp[i][1] + p > dp[-1][1]:\n",
    "        dp.append([e, dp[i][1] + p])"
   ]
  },
  {
   "cell_type": "code",
   "execution_count": 36,
   "metadata": {},
   "outputs": [],
   "source": [
    "startTime = [2, 2]\n",
    "endTime = [5, 5]\n",
    "profit = [50, 100]\n",
    "jobs = sorted(zip(startTime, endTime, profit), key=lambda v: v[1])"
   ]
  },
  {
   "cell_type": "code",
   "execution_count": 3,
   "metadata": {},
   "outputs": [],
   "source": [
    "import array\n",
    "\n",
    "test = array.array(\"i\", [1, 2, 3])"
   ]
  },
  {
   "cell_type": "code",
   "execution_count": 44,
   "metadata": {},
   "outputs": [
    {
     "data": {
      "text/plain": [
       "(5, '101')"
      ]
     },
     "execution_count": 44,
     "metadata": {},
     "output_type": "execute_result"
    }
   ],
   "source": [
    "num = 5\n",
    "bin_num = bin(num)[2:]\n",
    "num, bin_num"
   ]
  },
  {
   "cell_type": "code",
   "execution_count": 59,
   "metadata": {},
   "outputs": [],
   "source": [
    "num = 16"
   ]
  },
  {
   "cell_type": "code",
   "execution_count": 60,
   "metadata": {},
   "outputs": [
    {
     "data": {
      "text/plain": [
       "True"
      ]
     },
     "execution_count": 60,
     "metadata": {},
     "output_type": "execute_result"
    }
   ],
   "source": [
    "(num & num - 1) == 0"
   ]
  },
  {
   "cell_type": "code",
   "execution_count": 8,
   "metadata": {},
   "outputs": [
    {
     "name": "stdout",
     "output_type": "stream",
     "text": [
      "Time taken: 23.80 seconds\n"
     ]
    }
   ],
   "source": [
    "# Time how long it takes to iterate a billion times\n",
    "import time\n",
    "\n",
    "start = time.time()\n",
    "for i in range(int(1e9)):\n",
    "    pass\n",
    "\n",
    "end = time.time()\n",
    "time_taken = end - start\n",
    "\n",
    "print(f\"Time taken: {time_taken:.2f} seconds\")"
   ]
  }
 ],
 "metadata": {
  "kernelspec": {
   "display_name": "Python 3",
   "language": "python",
   "name": "python3"
  },
  "language_info": {
   "codemirror_mode": {
    "name": "ipython",
    "version": 3
   },
   "file_extension": ".py",
   "mimetype": "text/x-python",
   "name": "python",
   "nbconvert_exporter": "python",
   "pygments_lexer": "ipython3",
   "version": "3.11.6"
  },
  "orig_nbformat": 4,
  "vscode": {
   "interpreter": {
    "hash": "aee8b7b246df8f9039afb4144a1f6fd8d2ca17a180786b69acc140d282b71a49"
   }
  }
 },
 "nbformat": 4,
 "nbformat_minor": 2
}
