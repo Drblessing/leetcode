{
 "cells": [
  {
   "cell_type": "code",
   "execution_count": 5,
   "metadata": {},
   "outputs": [
    {
     "name": "stdout",
     "output_type": "stream",
     "text": [
      "zip method: 0.6419377499987604\n",
      "loop method: 0.7776179170032265\n",
      "pairwise method: 0.6610853750025854\n",
      "traditional method: 0.4242059170064749\n"
     ]
    }
   ],
   "source": [
    "import timeit\n",
    "import random\n",
    "from itertools import pairwise\n",
    "\n",
    "\n",
    "def smallest_diff_zip(sorted_list):\n",
    "    return min(b - a for a, b in zip(sorted_list, sorted_list[1:]))\n",
    "\n",
    "\n",
    "def smallest_diff_loop(sorted_list):\n",
    "    return min(sorted_list[i + 1] - sorted_list[i] for i in range(len(sorted_list) - 1))\n",
    "\n",
    "\n",
    "def smallest_diff_pairwise(sorted_list):\n",
    "    return min(b - a for a, b in pairwise(sorted_list))\n",
    "\n",
    "\n",
    "def smallest_diff_traditional(sorted_list):\n",
    "    if len(sorted_list) < 2:\n",
    "        return None\n",
    "    smallest = float(\"inf\")\n",
    "    for i in range(1, len(sorted_list)):\n",
    "        diff = sorted_list[i] - sorted_list[i - 1]\n",
    "        if diff < smallest:\n",
    "            smallest = diff\n",
    "    return smallest\n",
    "\n",
    "\n",
    "# Generate a large sorted list for testing\n",
    "test_list = sorted(random.randint(0, 1000000) for _ in range(100_000))\n",
    "\n",
    "# Test each function\n",
    "print(\"zip method:\", timeit.timeit(lambda: smallest_diff_zip(test_list), number=100))\n",
    "print(\"loop method:\", timeit.timeit(lambda: smallest_diff_loop(test_list), number=100))\n",
    "print(\n",
    "    \"pairwise method:\",\n",
    "    timeit.timeit(lambda: smallest_diff_pairwise(test_list), number=100),\n",
    ")\n",
    "print(\n",
    "    \"traditional method:\",\n",
    "    timeit.timeit(lambda: smallest_diff_traditional(test_list), number=100),\n",
    ")"
   ]
  },
  {
   "cell_type": "code",
   "execution_count": 10,
   "metadata": {},
   "outputs": [
    {
     "data": {
      "text/plain": [
       "0.7013193750026403"
      ]
     },
     "execution_count": 10,
     "metadata": {},
     "output_type": "execute_result"
    }
   ],
   "source": [
    "timeit.timeit(lambda: smallest_diff_zip(test_list), number=100)"
   ]
  },
  {
   "cell_type": "code",
   "execution_count": 3,
   "metadata": {},
   "outputs": [
    {
     "data": {
      "text/plain": [
       "1"
      ]
     },
     "execution_count": 3,
     "metadata": {},
     "output_type": "execute_result"
    }
   ],
   "source": [
    "s = [1, 2, 3, 4, 5, 6, 7, 8]\n",
    "n = 3\n",
    "\n",
    "result = list(zip(*[iter(s)] * n))\n",
    "s.count(4)"
   ]
  },
  {
   "cell_type": "code",
   "execution_count": 3,
   "metadata": {},
   "outputs": [
    {
     "name": "stdout",
     "output_type": "stream",
     "text": [
      "[[1, 2, 3], [4, 5, 6], [7, 8]]\n"
     ]
    },
    {
     "data": {
      "text/plain": [
       "[5, 6, 7, 8]"
      ]
     },
     "execution_count": 3,
     "metadata": {},
     "output_type": "execute_result"
    }
   ],
   "source": [
    "s = [1, 2, 3, 4, 5, 6, 7, 8]\n",
    "n = 3\n",
    "\n",
    "# Using list comprehension and slicing to create non-overlapping groups\n",
    "result = [s[i : i + n] for i in range(0, len(s), n)]\n",
    "print(result)  # Output: [[1, 2, 3], [4, 5, 6], [7, 8]]\n",
    "\n",
    "s[4:10]"
   ]
  },
  {
   "cell_type": "code",
   "execution_count": 20,
   "metadata": {},
   "outputs": [
    {
     "name": "stdout",
     "output_type": "stream",
     "text": [
      "1 2 3 \n",
      "[(4, 5, 6)]\n"
     ]
    }
   ],
   "source": [
    "s = [1, 2, 3, 4, 5, 6, 7, 8]\n",
    "n = 3\n",
    "\n",
    "iter_s = iter(s)\n",
    "iters = [iter_s] * n\n",
    "\n",
    "for i in iters:\n",
    "    print(next(i), end=\" \")  # Advance the iterator and print each step\n",
    "print()\n",
    "\n",
    "result = list(zip(*iters))\n",
    "print(result)  # Output: [(1, 2, 3), (4, 5, 6), (7, 8)]"
   ]
  },
  {
   "cell_type": "code",
   "execution_count": 23,
   "metadata": {},
   "outputs": [
    {
     "name": "stdout",
     "output_type": "stream",
     "text": [
      "next() called on LoggingIterator at index 0: 1\n",
      "next() called on LoggingIterator at index 1: 2\n",
      "next() called on LoggingIterator at index 2: 3\n",
      "next() called on LoggingIterator at index 3: 4\n",
      "next() called on LoggingIterator at index 4: 5\n",
      "next() called on LoggingIterator at index 5: 6\n",
      "next() called on LoggingIterator at index 6: 7\n",
      "next() called on LoggingIterator at index 7: 8\n",
      "[(1, 2, 3), (4, 5, 6)]\n"
     ]
    }
   ],
   "source": [
    "class LoggingIterator:\n",
    "    def __init__(self, iterable):\n",
    "        self.iterator = iter(iterable)\n",
    "        self.index = 0\n",
    "\n",
    "    def __iter__(self):\n",
    "        return self\n",
    "\n",
    "    def __next__(self):\n",
    "        value = next(self.iterator)\n",
    "        print(f\"next() called on LoggingIterator at index {self.index}: {value}\")\n",
    "        self.index += 1\n",
    "        return value\n",
    "\n",
    "\n",
    "s = [1, 2, 3, 4, 5, 6, 7, 8]\n",
    "n = 3\n",
    "\n",
    "logging_iterator = LoggingIterator(s)\n",
    "result = list(zip(*[logging_iterator] * n))\n",
    "print(result)"
   ]
  },
  {
   "cell_type": "code",
   "execution_count": 7,
   "metadata": {},
   "outputs": [
    {
     "name": "stdout",
     "output_type": "stream",
     "text": [
      "Read: asdf\n",
      "Read: adf\n",
      "Read: stop\n"
     ]
    }
   ],
   "source": [
    "def read_next():\n",
    "    data = input(\"Enter data (or 'STOP' to end): \")\n",
    "    return data\n",
    "\n",
    "\n",
    "data_iterator = iter(read_next, \"STOP\")\n",
    "\n",
    "for item in data_iterator:\n",
    "    print(f\"Read: {item}\")"
   ]
  },
  {
   "cell_type": "code",
   "execution_count": 37,
   "metadata": {},
   "outputs": [],
   "source": [
    "import bisect\n",
    "\n",
    "difficulty = [2, 4, 6, 8, 10, 2, 4, 10, 100]\n",
    "profit = [3, 5, 7, 9, 11, 4, 2, 11, 1]\n",
    "workers = [-1, 0, 1, 2, 4, 10, 20, 2, 40, 101, 1e300, float(\"inf\")]\n",
    "jobs = sorted(zip(difficulty, profit))\n",
    "max_profit_at_difficulty = []\n",
    "max_profit = 0\n",
    "for d, p in jobs:\n",
    "    max_profit = max(max_profit, p)\n",
    "    max_profit_at_difficulty.append((d, max_profit))\n",
    "\n",
    "\n",
    "difficulties, profits = zip(*max_profit_at_difficulty)\n",
    "\n",
    "total = 0\n",
    "for w in workers:\n",
    "    idx = bisect.bisect(difficulties, w)\n",
    "    test = bisect.bisect(max_profit_at_difficulty, w, key=lambda x: x[0])"
   ]
  },
  {
   "cell_type": "code",
   "execution_count": 2,
   "metadata": {},
   "outputs": [
    {
     "data": {
      "text/plain": [
       "[80, 40, 20, 40, 16]"
      ]
     },
     "execution_count": 2,
     "metadata": {},
     "output_type": "execute_result"
    }
   ],
   "source": [
    "# Product except self\n",
    "test = [1, 2, 4, 2, 5]\n",
    "# Calculate forward product\n",
    "forward = [1]\n",
    "for i in range(1, len(test)):\n",
    "    forward.append(forward[-1] * test[i])\n",
    "# Calculate backward product\n",
    "backward = [test[-1]]\n",
    "for i in range(len(test) - 2, -1, -1):\n",
    "    backward.append(backward[-1] * test[i])\n",
    "backward = backward[::-1]\n",
    "# Calculate product except self\n",
    "result = []\n",
    "for i in range(len(test)):\n",
    "    if i == 0:\n",
    "        result.append(backward[i + 1])\n",
    "    elif i == len(test) - 1:\n",
    "        result.append(forward[i - 1])\n",
    "    else:\n",
    "        result.append(forward[i - 1] * backward[i + 1])\n",
    "result"
   ]
  },
  {
   "cell_type": "code",
   "execution_count": 1,
   "metadata": {},
   "outputs": [
    {
     "name": "stdout",
     "output_type": "stream",
     "text": [
      "Counter({2: 3, 3: 2, 4: 2, 1: 1, 5: 1})\n",
      "(4, 2)\n"
     ]
    },
    {
     "data": {
      "text/plain": [
       "['__add__',\n",
       " '__and__',\n",
       " '__class__',\n",
       " '__class_getitem__',\n",
       " '__contains__',\n",
       " '__delattr__',\n",
       " '__delitem__',\n",
       " '__dict__',\n",
       " '__dir__',\n",
       " '__doc__',\n",
       " '__eq__',\n",
       " '__format__',\n",
       " '__ge__',\n",
       " '__getattribute__',\n",
       " '__getitem__',\n",
       " '__getstate__',\n",
       " '__gt__',\n",
       " '__hash__',\n",
       " '__iadd__',\n",
       " '__iand__',\n",
       " '__init__',\n",
       " '__init_subclass__',\n",
       " '__ior__',\n",
       " '__isub__',\n",
       " '__iter__',\n",
       " '__le__',\n",
       " '__len__',\n",
       " '__lt__',\n",
       " '__missing__',\n",
       " '__module__',\n",
       " '__ne__',\n",
       " '__neg__',\n",
       " '__new__',\n",
       " '__or__',\n",
       " '__pos__',\n",
       " '__reduce__',\n",
       " '__reduce_ex__',\n",
       " '__repr__',\n",
       " '__reversed__',\n",
       " '__ror__',\n",
       " '__setattr__',\n",
       " '__setitem__',\n",
       " '__sizeof__',\n",
       " '__str__',\n",
       " '__sub__',\n",
       " '__subclasshook__',\n",
       " '__weakref__',\n",
       " '_keep_positive',\n",
       " 'clear',\n",
       " 'copy',\n",
       " 'elements',\n",
       " 'fromkeys',\n",
       " 'get',\n",
       " 'items',\n",
       " 'keys',\n",
       " 'most_common',\n",
       " 'pop',\n",
       " 'popitem',\n",
       " 'setdefault',\n",
       " 'subtract',\n",
       " 'total',\n",
       " 'update',\n",
       " 'values']"
      ]
     },
     "execution_count": 1,
     "metadata": {},
     "output_type": "execute_result"
    }
   ],
   "source": [
    "from collections import defaultdict, Counter\n",
    "\n",
    "# test = defaultdict(int)\n",
    "# print(\"a\" in test)\n",
    "# print(test)\n",
    "# test[\"a\"]\n",
    "# print(test.keys())\n",
    "# print(\"a\" in test)\n",
    "\n",
    "test = Counter([1, 3, 3, 2, 5, 2, 4, 4, 2])\n",
    "print(test)\n",
    "print(test.popitem())\n",
    "\n",
    "dir(test)"
   ]
  },
  {
   "cell_type": "code",
   "execution_count": 68,
   "metadata": {},
   "outputs": [
    {
     "data": {
      "text/plain": [
       "(1, [(10, 'asdf'), (20, 'avasdf;lkj'), (30, 'dfvdj')])"
      ]
     },
     "execution_count": 68,
     "metadata": {},
     "output_type": "execute_result"
    }
   ],
   "source": [
    "test = [(10, \"asdf\"), (20, \"avasdf;lkj\"), (30, \"dfvdj\")]\n",
    "\n",
    "test_two = [i[0] for i in test]\n",
    "import bisect\n",
    "\n",
    "i = bisect.bisect(test, (10, \"zzzzzzz\"))\n",
    "\n",
    "i, test"
   ]
  },
  {
   "cell_type": "code",
   "execution_count": 34,
   "metadata": {},
   "outputs": [
    {
     "name": "stdout",
     "output_type": "stream",
     "text": [
      "JOB\n",
      "2 5 50\n",
      "[[0, 0], [2, 100]]\n",
      "1\n",
      "\n",
      "JOB\n",
      "2 5 100\n",
      "[[0, 0], [2, 100], [5, 150]]\n",
      "1\n",
      "\n"
     ]
    }
   ],
   "source": [
    "import bisect\n",
    "\n",
    "dp = [[0, 0], [2, 100]]\n",
    "\n",
    "for s, e, p in [[2, 5, 50], [2, 5, 100]]:\n",
    "    print(\"JOB\")\n",
    "    print(s, e, p)\n",
    "    print(dp)\n",
    "    i = bisect.bisect(dp, [s + 1]) - 1\n",
    "    print(i)\n",
    "    print()\n",
    "    if dp[i][1] + p > dp[-1][1]:\n",
    "        dp.append([e, dp[i][1] + p])"
   ]
  },
  {
   "cell_type": "code",
   "execution_count": 36,
   "metadata": {},
   "outputs": [],
   "source": [
    "startTime = [2, 2]\n",
    "endTime = [5, 5]\n",
    "profit = [50, 100]\n",
    "jobs = sorted(zip(startTime, endTime, profit), key=lambda v: v[1])"
   ]
  },
  {
   "cell_type": "code",
   "execution_count": 3,
   "metadata": {},
   "outputs": [],
   "source": [
    "import array\n",
    "\n",
    "test = array.array(\"i\", [1, 2, 3])"
   ]
  },
  {
   "cell_type": "code",
   "execution_count": 44,
   "metadata": {},
   "outputs": [
    {
     "data": {
      "text/plain": [
       "(5, '101')"
      ]
     },
     "execution_count": 44,
     "metadata": {},
     "output_type": "execute_result"
    }
   ],
   "source": [
    "num = 5\n",
    "bin_num = bin(num)[2:]\n",
    "num, bin_num"
   ]
  },
  {
   "cell_type": "code",
   "execution_count": 59,
   "metadata": {},
   "outputs": [],
   "source": [
    "num = 16"
   ]
  },
  {
   "cell_type": "code",
   "execution_count": 60,
   "metadata": {},
   "outputs": [
    {
     "data": {
      "text/plain": [
       "True"
      ]
     },
     "execution_count": 60,
     "metadata": {},
     "output_type": "execute_result"
    }
   ],
   "source": [
    "(num & num - 1) == 0"
   ]
  },
  {
   "cell_type": "code",
   "execution_count": 8,
   "metadata": {},
   "outputs": [
    {
     "name": "stdout",
     "output_type": "stream",
     "text": [
      "Time taken: 23.80 seconds\n"
     ]
    }
   ],
   "source": [
    "# Time how long it takes to iterate a billion times\n",
    "import time\n",
    "\n",
    "start = time.time()\n",
    "for i in range(int(1e9)):\n",
    "    pass\n",
    "\n",
    "end = time.time()\n",
    "time_taken = end - start\n",
    "\n",
    "print(f\"Time taken: {time_taken:.2f} seconds\")"
   ]
  },
  {
   "cell_type": "code",
   "execution_count": 11,
   "metadata": {},
   "outputs": [
    {
     "name": "stdout",
     "output_type": "stream",
     "text": [
      "Testing list size: 100\n",
      "  Zip: 0.000009 seconds\n",
      "  Loop: 0.000008 seconds\n",
      "  Pairwise: 0.000009 seconds\n",
      "  Traditional: 0.000004 seconds\n",
      "Testing list size: 1000\n",
      "  Zip: 0.000079 seconds\n",
      "  Loop: 0.000091 seconds\n",
      "  Pairwise: 0.000083 seconds\n",
      "  Traditional: 0.000055 seconds\n",
      "Testing list size: 10000\n",
      "  Zip: 0.000765 seconds\n",
      "  Loop: 0.000803 seconds\n",
      "  Pairwise: 0.000642 seconds\n",
      "  Traditional: 0.000431 seconds\n",
      "Testing list size: 100000\n",
      "  Zip: 0.006581 seconds\n",
      "  Loop: 0.007672 seconds\n",
      "  Pairwise: 0.006623 seconds\n",
      "  Traditional: 0.004533 seconds\n",
      "Testing list size: 1000000\n",
      "  Zip: 0.085022 seconds\n",
      "  Loop: 0.090309 seconds\n",
      "  Pairwise: 0.081654 seconds\n",
      "  Traditional: 0.057295 seconds\n",
      "Testing list size: 100000000\n",
      "  Zip: 14.503033 seconds\n",
      "  Loop: 10.711532 seconds\n",
      "  Pairwise: 22.108157 seconds\n",
      "  Traditional: 6.894970 seconds\n",
      "Graph saved as 'performance_comparison.png'\n"
     ]
    }
   ],
   "source": [
    "import timeit\n",
    "import random\n",
    "from itertools import pairwise\n",
    "import matplotlib.pyplot as plt\n",
    "\n",
    "\n",
    "def smallest_diff_zip(sorted_list):\n",
    "    return min(b - a for a, b in zip(sorted_list, sorted_list[1:]))\n",
    "\n",
    "\n",
    "def smallest_diff_loop(sorted_list):\n",
    "    return min(sorted_list[i + 1] - sorted_list[i] for i in range(len(sorted_list) - 1))\n",
    "\n",
    "\n",
    "def smallest_diff_pairwise(sorted_list):\n",
    "    return min(b - a for a, b in pairwise(sorted_list))\n",
    "\n",
    "\n",
    "def smallest_diff_traditional(sorted_list):\n",
    "    if len(sorted_list) < 2:\n",
    "        return None\n",
    "    smallest = float(\"inf\")\n",
    "    for i in range(1, len(sorted_list)):\n",
    "        diff = sorted_list[i] - sorted_list[i - 1]\n",
    "        if diff < smallest:\n",
    "            smallest = diff\n",
    "    return smallest\n",
    "\n",
    "\n",
    "def test_performance(func, list_size, num_tests=10):\n",
    "    test_list = sorted(random.randint(0, 1000000) for _ in range(list_size))\n",
    "    return timeit.timeit(lambda: func(test_list), number=num_tests) / num_tests\n",
    "\n",
    "\n",
    "# List sizes to test\n",
    "sizes = [100, 1000, 10000, 100000, 1_000_000, 100_000_000]\n",
    "\n",
    "# Test each function\n",
    "methods = [\n",
    "    (\"Zip\", smallest_diff_zip),\n",
    "    (\"Loop\", smallest_diff_loop),\n",
    "    (\"Pairwise\", smallest_diff_pairwise),\n",
    "    (\"Traditional\", smallest_diff_traditional),\n",
    "]\n",
    "\n",
    "results = {method: [] for method, _ in methods}\n",
    "\n",
    "for size in sizes:\n",
    "    print(f\"Testing list size: {size}\")\n",
    "    for method_name, func in methods:\n",
    "        time = test_performance(func, size)\n",
    "        results[method_name].append(time)\n",
    "        print(f\"  {method_name}: {time:.6f} seconds\")\n",
    "\n",
    "# Plotting\n",
    "plt.figure(figsize=(12, 6))\n",
    "for method_name, times in results.items():\n",
    "    plt.plot(sizes, times, marker=\"o\", label=method_name)\n",
    "\n",
    "plt.xscale(\"log\")\n",
    "plt.yscale(\"log\")\n",
    "plt.xlabel(\"List Size\")\n",
    "plt.ylabel(\"Execution Time (seconds)\")\n",
    "plt.title(\"Performance Comparison of Smallest Difference Methods\")\n",
    "plt.legend()\n",
    "plt.grid(True)\n",
    "\n",
    "plt.savefig(\"performance_comparison.png\")\n",
    "plt.close()\n",
    "\n",
    "print(\"Graph saved as 'performance_comparison.png'\")"
   ]
  },
  {
   "cell_type": "code",
   "execution_count": 16,
   "metadata": {},
   "outputs": [
    {
     "ename": "ImportError",
     "evalue": "cannot import name 'timer' from 'contextlib' (/opt/homebrew/Cellar/python@3.12/3.12.4/Frameworks/Python.framework/Versions/3.12/lib/python3.12/contextlib.py)",
     "output_type": "error",
     "traceback": [
      "\u001b[0;31m---------------------------------------------------------------------------\u001b[0m",
      "\u001b[0;31mImportError\u001b[0m                               Traceback (most recent call last)",
      "Cell \u001b[0;32mIn[16], line 1\u001b[0m\n\u001b[0;32m----> 1\u001b[0m \u001b[38;5;28;01mfrom\u001b[39;00m \u001b[38;5;21;01mcontextlib\u001b[39;00m \u001b[38;5;28;01mimport\u001b[39;00m timer\n\u001b[1;32m      3\u001b[0m \u001b[38;5;28;01mwith\u001b[39;00m timer() \u001b[38;5;28;01mas\u001b[39;00m t:\n\u001b[1;32m      4\u001b[0m     \u001b[38;5;66;03m# ... code to time ...\u001b[39;00m\n\u001b[1;32m      5\u001b[0m     \u001b[38;5;28mprint\u001b[39m(\u001b[38;5;241m2\u001b[39m\u001b[38;5;241m+\u001b[39m\u001b[38;5;241m2\u001b[39m)\n",
      "\u001b[0;31mImportError\u001b[0m: cannot import name 'timer' from 'contextlib' (/opt/homebrew/Cellar/python@3.12/3.12.4/Frameworks/Python.framework/Versions/3.12/lib/python3.12/contextlib.py)"
     ]
    }
   ],
   "source": [
    "from contextlib import timer\n",
    "\n",
    "with timer() as t:\n",
    "    # ... code to time ...\n",
    "    print(2 + 2)\n",
    "print(f\"Execution time: {t.elapsed} seconds\")"
   ]
  }
 ],
 "metadata": {
  "kernelspec": {
   "display_name": "Python 3",
   "language": "python",
   "name": "python3"
  },
  "language_info": {
   "codemirror_mode": {
    "name": "ipython",
    "version": 3
   },
   "file_extension": ".py",
   "mimetype": "text/x-python",
   "name": "python",
   "nbconvert_exporter": "python",
   "pygments_lexer": "ipython3",
   "version": "3.12.4"
  },
  "orig_nbformat": 4,
  "vscode": {
   "interpreter": {
    "hash": "aee8b7b246df8f9039afb4144a1f6fd8d2ca17a180786b69acc140d282b71a49"
   }
  }
 },
 "nbformat": 4,
 "nbformat_minor": 2
}
