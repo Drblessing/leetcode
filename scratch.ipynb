{
 "cells": [
  {
   "cell_type": "code",
   "execution_count": 3,
   "metadata": {},
   "outputs": [
    {
     "name": "stdout",
     "output_type": "stream",
     "text": [
      "[2]\n"
     ]
    }
   ],
   "source": [
    "from collections import Counter\n",
    "\n",
    "nums1 = [1, 2, 2, 1]\n",
    "nums2 = [2, 2]\n",
    "\n",
    "# Intersection of Two Arrays II\n",
    "# https://leetcode.com/problems/intersection-of-two-arrays-ii/\n",
    "\n",
    "# Approach 1: Hash Map\n",
    "# Time complexity: O(n+m)\n",
    "# Space complexity: O(min(n,m))\n",
    "\n",
    "c = Counter(nums1) & Counter(nums2)\n",
    "print(list(c))"
   ]
  },
  {
   "cell_type": "code",
   "execution_count": 3,
   "metadata": {},
   "outputs": [
    {
     "data": {
      "text/plain": [
       "1"
      ]
     },
     "execution_count": 3,
     "metadata": {},
     "output_type": "execute_result"
    }
   ],
   "source": [
    "s = [1, 2, 3, 4, 5, 6, 7, 8]\n",
    "n = 3\n",
    "\n",
    "result = list(zip(*[iter(s)] * n))\n",
    "s.count(4)"
   ]
  },
  {
   "cell_type": "code",
   "execution_count": 3,
   "metadata": {},
   "outputs": [
    {
     "name": "stdout",
     "output_type": "stream",
     "text": [
      "[[1, 2, 3], [4, 5, 6], [7, 8]]\n"
     ]
    },
    {
     "data": {
      "text/plain": [
       "[5, 6, 7, 8]"
      ]
     },
     "execution_count": 3,
     "metadata": {},
     "output_type": "execute_result"
    }
   ],
   "source": [
    "s = [1, 2, 3, 4, 5, 6, 7, 8]\n",
    "n = 3\n",
    "\n",
    "# Using list comprehension and slicing to create non-overlapping groups\n",
    "result = [s[i : i + n] for i in range(0, len(s), n)]\n",
    "print(result)  # Output: [[1, 2, 3], [4, 5, 6], [7, 8]]\n",
    "\n",
    "s[4:10]"
   ]
  },
  {
   "cell_type": "code",
   "execution_count": 20,
   "metadata": {},
   "outputs": [
    {
     "name": "stdout",
     "output_type": "stream",
     "text": [
      "1 2 3 \n",
      "[(4, 5, 6)]\n"
     ]
    }
   ],
   "source": [
    "s = [1, 2, 3, 4, 5, 6, 7, 8]\n",
    "n = 3\n",
    "\n",
    "iter_s = iter(s)\n",
    "iters = [iter_s] * n\n",
    "\n",
    "for i in iters:\n",
    "    print(next(i), end=\" \")  # Advance the iterator and print each step\n",
    "print()\n",
    "\n",
    "result = list(zip(*iters))\n",
    "print(result)  # Output: [(1, 2, 3), (4, 5, 6), (7, 8)]"
   ]
  },
  {
   "cell_type": "code",
   "execution_count": 23,
   "metadata": {},
   "outputs": [
    {
     "name": "stdout",
     "output_type": "stream",
     "text": [
      "next() called on LoggingIterator at index 0: 1\n",
      "next() called on LoggingIterator at index 1: 2\n",
      "next() called on LoggingIterator at index 2: 3\n",
      "next() called on LoggingIterator at index 3: 4\n",
      "next() called on LoggingIterator at index 4: 5\n",
      "next() called on LoggingIterator at index 5: 6\n",
      "next() called on LoggingIterator at index 6: 7\n",
      "next() called on LoggingIterator at index 7: 8\n",
      "[(1, 2, 3), (4, 5, 6)]\n"
     ]
    }
   ],
   "source": [
    "class LoggingIterator:\n",
    "    def __init__(self, iterable):\n",
    "        self.iterator = iter(iterable)\n",
    "        self.index = 0\n",
    "\n",
    "    def __iter__(self):\n",
    "        return self\n",
    "\n",
    "    def __next__(self):\n",
    "        value = next(self.iterator)\n",
    "        print(f\"next() called on LoggingIterator at index {self.index}: {value}\")\n",
    "        self.index += 1\n",
    "        return value\n",
    "\n",
    "\n",
    "s = [1, 2, 3, 4, 5, 6, 7, 8]\n",
    "n = 3\n",
    "\n",
    "logging_iterator = LoggingIterator(s)\n",
    "result = list(zip(*[logging_iterator] * n))\n",
    "print(result)"
   ]
  },
  {
   "cell_type": "code",
   "execution_count": 7,
   "metadata": {},
   "outputs": [
    {
     "name": "stdout",
     "output_type": "stream",
     "text": [
      "Read: asdf\n",
      "Read: adf\n",
      "Read: stop\n"
     ]
    }
   ],
   "source": [
    "def read_next():\n",
    "    data = input(\"Enter data (or 'STOP' to end): \")\n",
    "    return data\n",
    "\n",
    "\n",
    "data_iterator = iter(read_next, \"STOP\")\n",
    "\n",
    "for item in data_iterator:\n",
    "    print(f\"Read: {item}\")"
   ]
  },
  {
   "cell_type": "code",
   "execution_count": 37,
   "metadata": {},
   "outputs": [],
   "source": [
    "import bisect\n",
    "\n",
    "difficulty = [2, 4, 6, 8, 10, 2, 4, 10, 100]\n",
    "profit = [3, 5, 7, 9, 11, 4, 2, 11, 1]\n",
    "workers = [-1, 0, 1, 2, 4, 10, 20, 2, 40, 101, 1e300, float(\"inf\")]\n",
    "jobs = sorted(zip(difficulty, profit))\n",
    "max_profit_at_difficulty = []\n",
    "max_profit = 0\n",
    "for d, p in jobs:\n",
    "    max_profit = max(max_profit, p)\n",
    "    max_profit_at_difficulty.append((d, max_profit))\n",
    "\n",
    "\n",
    "difficulties, profits = zip(*max_profit_at_difficulty)\n",
    "\n",
    "total = 0\n",
    "for w in workers:\n",
    "    idx = bisect.bisect(difficulties, w)\n",
    "    test = bisect.bisect(max_profit_at_difficulty, w, key=lambda x: x[0])"
   ]
  },
  {
   "cell_type": "code",
   "execution_count": 2,
   "metadata": {},
   "outputs": [
    {
     "data": {
      "text/plain": [
       "[80, 40, 20, 40, 16]"
      ]
     },
     "execution_count": 2,
     "metadata": {},
     "output_type": "execute_result"
    }
   ],
   "source": [
    "# Product except self\n",
    "test = [1, 2, 4, 2, 5]\n",
    "# Calculate forward product\n",
    "forward = [1]\n",
    "for i in range(1, len(test)):\n",
    "    forward.append(forward[-1] * test[i])\n",
    "# Calculate backward product\n",
    "backward = [test[-1]]\n",
    "for i in range(len(test) - 2, -1, -1):\n",
    "    backward.append(backward[-1] * test[i])\n",
    "backward = backward[::-1]\n",
    "# Calculate product except self\n",
    "result = []\n",
    "for i in range(len(test)):\n",
    "    if i == 0:\n",
    "        result.append(backward[i + 1])\n",
    "    elif i == len(test) - 1:\n",
    "        result.append(forward[i - 1])\n",
    "    else:\n",
    "        result.append(forward[i - 1] * backward[i + 1])\n",
    "result"
   ]
  },
  {
   "cell_type": "code",
   "execution_count": 1,
   "metadata": {},
   "outputs": [
    {
     "name": "stdout",
     "output_type": "stream",
     "text": [
      "Counter({2: 3, 3: 2, 4: 2, 1: 1, 5: 1})\n",
      "(4, 2)\n"
     ]
    },
    {
     "data": {
      "text/plain": [
       "['__add__',\n",
       " '__and__',\n",
       " '__class__',\n",
       " '__class_getitem__',\n",
       " '__contains__',\n",
       " '__delattr__',\n",
       " '__delitem__',\n",
       " '__dict__',\n",
       " '__dir__',\n",
       " '__doc__',\n",
       " '__eq__',\n",
       " '__format__',\n",
       " '__ge__',\n",
       " '__getattribute__',\n",
       " '__getitem__',\n",
       " '__getstate__',\n",
       " '__gt__',\n",
       " '__hash__',\n",
       " '__iadd__',\n",
       " '__iand__',\n",
       " '__init__',\n",
       " '__init_subclass__',\n",
       " '__ior__',\n",
       " '__isub__',\n",
       " '__iter__',\n",
       " '__le__',\n",
       " '__len__',\n",
       " '__lt__',\n",
       " '__missing__',\n",
       " '__module__',\n",
       " '__ne__',\n",
       " '__neg__',\n",
       " '__new__',\n",
       " '__or__',\n",
       " '__pos__',\n",
       " '__reduce__',\n",
       " '__reduce_ex__',\n",
       " '__repr__',\n",
       " '__reversed__',\n",
       " '__ror__',\n",
       " '__setattr__',\n",
       " '__setitem__',\n",
       " '__sizeof__',\n",
       " '__str__',\n",
       " '__sub__',\n",
       " '__subclasshook__',\n",
       " '__weakref__',\n",
       " '_keep_positive',\n",
       " 'clear',\n",
       " 'copy',\n",
       " 'elements',\n",
       " 'fromkeys',\n",
       " 'get',\n",
       " 'items',\n",
       " 'keys',\n",
       " 'most_common',\n",
       " 'pop',\n",
       " 'popitem',\n",
       " 'setdefault',\n",
       " 'subtract',\n",
       " 'total',\n",
       " 'update',\n",
       " 'values']"
      ]
     },
     "execution_count": 1,
     "metadata": {},
     "output_type": "execute_result"
    }
   ],
   "source": [
    "from collections import defaultdict, Counter\n",
    "\n",
    "# test = defaultdict(int)\n",
    "# print(\"a\" in test)\n",
    "# print(test)\n",
    "# test[\"a\"]\n",
    "# print(test.keys())\n",
    "# print(\"a\" in test)\n",
    "\n",
    "test = Counter([1, 3, 3, 2, 5, 2, 4, 4, 2])\n",
    "print(test)\n",
    "print(test.popitem())\n",
    "\n",
    "dir(test)"
   ]
  },
  {
   "cell_type": "code",
   "execution_count": 68,
   "metadata": {},
   "outputs": [
    {
     "data": {
      "text/plain": [
       "(1, [(10, 'asdf'), (20, 'avasdf;lkj'), (30, 'dfvdj')])"
      ]
     },
     "execution_count": 68,
     "metadata": {},
     "output_type": "execute_result"
    }
   ],
   "source": [
    "test = [(10, \"asdf\"), (20, \"avasdf;lkj\"), (30, \"dfvdj\")]\n",
    "\n",
    "test_two = [i[0] for i in test]\n",
    "import bisect\n",
    "\n",
    "i = bisect.bisect(test, (10, \"zzzzzzz\"))\n",
    "\n",
    "i, test"
   ]
  },
  {
   "cell_type": "code",
   "execution_count": 34,
   "metadata": {},
   "outputs": [
    {
     "name": "stdout",
     "output_type": "stream",
     "text": [
      "JOB\n",
      "2 5 50\n",
      "[[0, 0], [2, 100]]\n",
      "1\n",
      "\n",
      "JOB\n",
      "2 5 100\n",
      "[[0, 0], [2, 100], [5, 150]]\n",
      "1\n",
      "\n"
     ]
    }
   ],
   "source": [
    "import bisect\n",
    "\n",
    "dp = [[0, 0], [2, 100]]\n",
    "\n",
    "for s, e, p in [[2, 5, 50], [2, 5, 100]]:\n",
    "    print(\"JOB\")\n",
    "    print(s, e, p)\n",
    "    print(dp)\n",
    "    i = bisect.bisect(dp, [s + 1]) - 1\n",
    "    print(i)\n",
    "    print()\n",
    "    if dp[i][1] + p > dp[-1][1]:\n",
    "        dp.append([e, dp[i][1] + p])"
   ]
  },
  {
   "cell_type": "code",
   "execution_count": 36,
   "metadata": {},
   "outputs": [],
   "source": [
    "startTime = [2, 2]\n",
    "endTime = [5, 5]\n",
    "profit = [50, 100]\n",
    "jobs = sorted(zip(startTime, endTime, profit), key=lambda v: v[1])"
   ]
  },
  {
   "cell_type": "code",
   "execution_count": 3,
   "metadata": {},
   "outputs": [],
   "source": [
    "import array\n",
    "\n",
    "test = array.array(\"i\", [1, 2, 3])"
   ]
  },
  {
   "cell_type": "code",
   "execution_count": 44,
   "metadata": {},
   "outputs": [
    {
     "data": {
      "text/plain": [
       "(5, '101')"
      ]
     },
     "execution_count": 44,
     "metadata": {},
     "output_type": "execute_result"
    }
   ],
   "source": [
    "num = 5\n",
    "bin_num = bin(num)[2:]\n",
    "num, bin_num"
   ]
  },
  {
   "cell_type": "code",
   "execution_count": 59,
   "metadata": {},
   "outputs": [],
   "source": [
    "num = 16"
   ]
  },
  {
   "cell_type": "code",
   "execution_count": 60,
   "metadata": {},
   "outputs": [
    {
     "data": {
      "text/plain": [
       "True"
      ]
     },
     "execution_count": 60,
     "metadata": {},
     "output_type": "execute_result"
    }
   ],
   "source": [
    "(num & num - 1) == 0"
   ]
  },
  {
   "cell_type": "code",
   "execution_count": 8,
   "metadata": {},
   "outputs": [
    {
     "name": "stdout",
     "output_type": "stream",
     "text": [
      "Time taken: 23.80 seconds\n"
     ]
    }
   ],
   "source": [
    "# Time how long it takes to iterate a billion times\n",
    "import time\n",
    "\n",
    "start = time.time()\n",
    "for i in range(int(1e9)):\n",
    "    pass\n",
    "\n",
    "end = time.time()\n",
    "time_taken = end - start\n",
    "\n",
    "print(f\"Time taken: {time_taken:.2f} seconds\")"
   ]
  }
 ],
 "metadata": {
  "kernelspec": {
   "display_name": "Python 3",
   "language": "python",
   "name": "python3"
  },
  "language_info": {
   "codemirror_mode": {
    "name": "ipython",
    "version": 3
   },
   "file_extension": ".py",
   "mimetype": "text/x-python",
   "name": "python",
   "nbconvert_exporter": "python",
   "pygments_lexer": "ipython3",
   "version": "3.12.4"
  },
  "orig_nbformat": 4,
  "vscode": {
   "interpreter": {
    "hash": "aee8b7b246df8f9039afb4144a1f6fd8d2ca17a180786b69acc140d282b71a49"
   }
  }
 },
 "nbformat": 4,
 "nbformat_minor": 2
}
