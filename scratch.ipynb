{
 "cells": [
  {
   "cell_type": "code",
   "execution_count": 5,
   "metadata": {},
   "outputs": [
    {
     "name": "stdout",
     "output_type": "stream",
     "text": [
      "zip method: 0.6419377499987604\n",
      "loop method: 0.7776179170032265\n",
      "pairwise method: 0.6610853750025854\n",
      "traditional method: 0.4242059170064749\n"
     ]
    }
   ],
   "source": [
    "import timeit\n",
    "import random\n",
    "from itertools import pairwise\n",
    "\n",
    "\n",
    "def smallest_diff_zip(sorted_list):\n",
    "    return min(b - a for a, b in zip(sorted_list, sorted_list[1:]))\n",
    "\n",
    "\n",
    "def smallest_diff_loop(sorted_list):\n",
    "    return min(sorted_list[i + 1] - sorted_list[i] for i in range(len(sorted_list) - 1))\n",
    "\n",
    "\n",
    "def smallest_diff_pairwise(sorted_list):\n",
    "    return min(b - a for a, b in pairwise(sorted_list))\n",
    "\n",
    "\n",
    "def smallest_diff_traditional(sorted_list):\n",
    "    if len(sorted_list) < 2:\n",
    "        return None\n",
    "    smallest = float(\"inf\")\n",
    "    for i in range(1, len(sorted_list)):\n",
    "        diff = sorted_list[i] - sorted_list[i - 1]\n",
    "        if diff < smallest:\n",
    "            smallest = diff\n",
    "    return smallest\n",
    "\n",
    "\n",
    "# Generate a large sorted list for testing\n",
    "test_list = sorted(random.randint(0, 1000000) for _ in range(100_000))\n",
    "\n",
    "# Test each function\n",
    "print(\"zip method:\", timeit.timeit(lambda: smallest_diff_zip(test_list), number=100))\n",
    "print(\"loop method:\", timeit.timeit(lambda: smallest_diff_loop(test_list), number=100))\n",
    "print(\n",
    "    \"pairwise method:\",\n",
    "    timeit.timeit(lambda: smallest_diff_pairwise(test_list), number=100),\n",
    ")\n",
    "print(\n",
    "    \"traditional method:\",\n",
    "    timeit.timeit(lambda: smallest_diff_traditional(test_list), number=100),\n",
    ")"
   ]
  },
  {
   "cell_type": "code",
   "execution_count": 10,
   "metadata": {},
   "outputs": [
    {
     "data": {
      "text/plain": [
       "0.7013193750026403"
      ]
     },
     "execution_count": 10,
     "metadata": {},
     "output_type": "execute_result"
    }
   ],
   "source": [
    "timeit.timeit(lambda: smallest_diff_zip(test_list), number=100)"
   ]
  },
  {
   "cell_type": "code",
   "execution_count": 3,
   "metadata": {},
   "outputs": [
    {
     "data": {
      "text/plain": [
       "1"
      ]
     },
     "execution_count": 3,
     "metadata": {},
     "output_type": "execute_result"
    }
   ],
   "source": [
    "s = [1, 2, 3, 4, 5, 6, 7, 8]\n",
    "n = 3\n",
    "\n",
    "result = list(zip(*[iter(s)] * n))\n",
    "s.count(4)"
   ]
  },
  {
   "cell_type": "code",
   "execution_count": 3,
   "metadata": {},
   "outputs": [
    {
     "name": "stdout",
     "output_type": "stream",
     "text": [
      "[[1, 2, 3], [4, 5, 6], [7, 8]]\n"
     ]
    },
    {
     "data": {
      "text/plain": [
       "[5, 6, 7, 8]"
      ]
     },
     "execution_count": 3,
     "metadata": {},
     "output_type": "execute_result"
    }
   ],
   "source": [
    "s = [1, 2, 3, 4, 5, 6, 7, 8]\n",
    "n = 3\n",
    "\n",
    "# Using list comprehension and slicing to create non-overlapping groups\n",
    "result = [s[i : i + n] for i in range(0, len(s), n)]\n",
    "print(result)  # Output: [[1, 2, 3], [4, 5, 6], [7, 8]]\n",
    "\n",
    "s[4:10]"
   ]
  },
  {
   "cell_type": "code",
   "execution_count": 20,
   "metadata": {},
   "outputs": [
    {
     "name": "stdout",
     "output_type": "stream",
     "text": [
      "1 2 3 \n",
      "[(4, 5, 6)]\n"
     ]
    }
   ],
   "source": [
    "s = [1, 2, 3, 4, 5, 6, 7, 8]\n",
    "n = 3\n",
    "\n",
    "iter_s = iter(s)\n",
    "iters = [iter_s] * n\n",
    "\n",
    "for i in iters:\n",
    "    print(next(i), end=\" \")  # Advance the iterator and print each step\n",
    "print()\n",
    "\n",
    "result = list(zip(*iters))\n",
    "print(result)  # Output: [(1, 2, 3), (4, 5, 6), (7, 8)]"
   ]
  },
  {
   "cell_type": "code",
   "execution_count": 23,
   "metadata": {},
   "outputs": [
    {
     "name": "stdout",
     "output_type": "stream",
     "text": [
      "next() called on LoggingIterator at index 0: 1\n",
      "next() called on LoggingIterator at index 1: 2\n",
      "next() called on LoggingIterator at index 2: 3\n",
      "next() called on LoggingIterator at index 3: 4\n",
      "next() called on LoggingIterator at index 4: 5\n",
      "next() called on LoggingIterator at index 5: 6\n",
      "next() called on LoggingIterator at index 6: 7\n",
      "next() called on LoggingIterator at index 7: 8\n",
      "[(1, 2, 3), (4, 5, 6)]\n"
     ]
    }
   ],
   "source": [
    "class LoggingIterator:\n",
    "    def __init__(self, iterable):\n",
    "        self.iterator = iter(iterable)\n",
    "        self.index = 0\n",
    "\n",
    "    def __iter__(self):\n",
    "        return self\n",
    "\n",
    "    def __next__(self):\n",
    "        value = next(self.iterator)\n",
    "        print(f\"next() called on LoggingIterator at index {self.index}: {value}\")\n",
    "        self.index += 1\n",
    "        return value\n",
    "\n",
    "\n",
    "s = [1, 2, 3, 4, 5, 6, 7, 8]\n",
    "n = 3\n",
    "\n",
    "logging_iterator = LoggingIterator(s)\n",
    "result = list(zip(*[logging_iterator] * n))\n",
    "print(result)"
   ]
  },
  {
   "cell_type": "code",
   "execution_count": 7,
   "metadata": {},
   "outputs": [
    {
     "name": "stdout",
     "output_type": "stream",
     "text": [
      "Read: asdf\n",
      "Read: adf\n",
      "Read: stop\n"
     ]
    }
   ],
   "source": [
    "def read_next():\n",
    "    data = input(\"Enter data (or 'STOP' to end): \")\n",
    "    return data\n",
    "\n",
    "\n",
    "data_iterator = iter(read_next, \"STOP\")\n",
    "\n",
    "for item in data_iterator:\n",
    "    print(f\"Read: {item}\")"
   ]
  },
  {
   "cell_type": "code",
   "execution_count": 37,
   "metadata": {},
   "outputs": [],
   "source": [
    "import bisect\n",
    "\n",
    "difficulty = [2, 4, 6, 8, 10, 2, 4, 10, 100]\n",
    "profit = [3, 5, 7, 9, 11, 4, 2, 11, 1]\n",
    "workers = [-1, 0, 1, 2, 4, 10, 20, 2, 40, 101, 1e300, float(\"inf\")]\n",
    "jobs = sorted(zip(difficulty, profit))\n",
    "max_profit_at_difficulty = []\n",
    "max_profit = 0\n",
    "for d, p in jobs:\n",
    "    max_profit = max(max_profit, p)\n",
    "    max_profit_at_difficulty.append((d, max_profit))\n",
    "\n",
    "\n",
    "difficulties, profits = zip(*max_profit_at_difficulty)\n",
    "\n",
    "total = 0\n",
    "for w in workers:\n",
    "    idx = bisect.bisect(difficulties, w)\n",
    "    test = bisect.bisect(max_profit_at_difficulty, w, key=lambda x: x[0])"
   ]
  },
  {
   "cell_type": "code",
   "execution_count": 2,
   "metadata": {},
   "outputs": [
    {
     "data": {
      "text/plain": [
       "[80, 40, 20, 40, 16]"
      ]
     },
     "execution_count": 2,
     "metadata": {},
     "output_type": "execute_result"
    }
   ],
   "source": [
    "# Product except self\n",
    "test = [1, 2, 4, 2, 5]\n",
    "# Calculate forward product\n",
    "forward = [1]\n",
    "for i in range(1, len(test)):\n",
    "    forward.append(forward[-1] * test[i])\n",
    "# Calculate backward product\n",
    "backward = [test[-1]]\n",
    "for i in range(len(test) - 2, -1, -1):\n",
    "    backward.append(backward[-1] * test[i])\n",
    "backward = backward[::-1]\n",
    "# Calculate product except self\n",
    "result = []\n",
    "for i in range(len(test)):\n",
    "    if i == 0:\n",
    "        result.append(backward[i + 1])\n",
    "    elif i == len(test) - 1:\n",
    "        result.append(forward[i - 1])\n",
    "    else:\n",
    "        result.append(forward[i - 1] * backward[i + 1])\n",
    "result"
   ]
  },
  {
   "cell_type": "code",
   "execution_count": 1,
   "metadata": {},
   "outputs": [
    {
     "name": "stdout",
     "output_type": "stream",
     "text": [
      "Counter({2: 3, 3: 2, 4: 2, 1: 1, 5: 1})\n",
      "(4, 2)\n"
     ]
    },
    {
     "data": {
      "text/plain": [
       "['__add__',\n",
       " '__and__',\n",
       " '__class__',\n",
       " '__class_getitem__',\n",
       " '__contains__',\n",
       " '__delattr__',\n",
       " '__delitem__',\n",
       " '__dict__',\n",
       " '__dir__',\n",
       " '__doc__',\n",
       " '__eq__',\n",
       " '__format__',\n",
       " '__ge__',\n",
       " '__getattribute__',\n",
       " '__getitem__',\n",
       " '__getstate__',\n",
       " '__gt__',\n",
       " '__hash__',\n",
       " '__iadd__',\n",
       " '__iand__',\n",
       " '__init__',\n",
       " '__init_subclass__',\n",
       " '__ior__',\n",
       " '__isub__',\n",
       " '__iter__',\n",
       " '__le__',\n",
       " '__len__',\n",
       " '__lt__',\n",
       " '__missing__',\n",
       " '__module__',\n",
       " '__ne__',\n",
       " '__neg__',\n",
       " '__new__',\n",
       " '__or__',\n",
       " '__pos__',\n",
       " '__reduce__',\n",
       " '__reduce_ex__',\n",
       " '__repr__',\n",
       " '__reversed__',\n",
       " '__ror__',\n",
       " '__setattr__',\n",
       " '__setitem__',\n",
       " '__sizeof__',\n",
       " '__str__',\n",
       " '__sub__',\n",
       " '__subclasshook__',\n",
       " '__weakref__',\n",
       " '_keep_positive',\n",
       " 'clear',\n",
       " 'copy',\n",
       " 'elements',\n",
       " 'fromkeys',\n",
       " 'get',\n",
       " 'items',\n",
       " 'keys',\n",
       " 'most_common',\n",
       " 'pop',\n",
       " 'popitem',\n",
       " 'setdefault',\n",
       " 'subtract',\n",
       " 'total',\n",
       " 'update',\n",
       " 'values']"
      ]
     },
     "execution_count": 1,
     "metadata": {},
     "output_type": "execute_result"
    }
   ],
   "source": [
    "from collections import defaultdict, Counter\n",
    "\n",
    "# test = defaultdict(int)\n",
    "# print(\"a\" in test)\n",
    "# print(test)\n",
    "# test[\"a\"]\n",
    "# print(test.keys())\n",
    "# print(\"a\" in test)\n",
    "\n",
    "test = Counter([1, 3, 3, 2, 5, 2, 4, 4, 2])\n",
    "print(test)\n",
    "print(test.popitem())\n",
    "\n",
    "dir(test)"
   ]
  },
  {
   "cell_type": "code",
   "execution_count": 68,
   "metadata": {},
   "outputs": [
    {
     "data": {
      "text/plain": [
       "(1, [(10, 'asdf'), (20, 'avasdf;lkj'), (30, 'dfvdj')])"
      ]
     },
     "execution_count": 68,
     "metadata": {},
     "output_type": "execute_result"
    }
   ],
   "source": [
    "test = [(10, \"asdf\"), (20, \"avasdf;lkj\"), (30, \"dfvdj\")]\n",
    "\n",
    "test_two = [i[0] for i in test]\n",
    "import bisect\n",
    "\n",
    "i = bisect.bisect(test, (10, \"zzzzzzz\"))\n",
    "\n",
    "i, test"
   ]
  },
  {
   "cell_type": "code",
   "execution_count": 34,
   "metadata": {},
   "outputs": [
    {
     "name": "stdout",
     "output_type": "stream",
     "text": [
      "JOB\n",
      "2 5 50\n",
      "[[0, 0], [2, 100]]\n",
      "1\n",
      "\n",
      "JOB\n",
      "2 5 100\n",
      "[[0, 0], [2, 100], [5, 150]]\n",
      "1\n",
      "\n"
     ]
    }
   ],
   "source": [
    "import bisect\n",
    "\n",
    "dp = [[0, 0], [2, 100]]\n",
    "\n",
    "for s, e, p in [[2, 5, 50], [2, 5, 100]]:\n",
    "    print(\"JOB\")\n",
    "    print(s, e, p)\n",
    "    print(dp)\n",
    "    i = bisect.bisect(dp, [s + 1]) - 1\n",
    "    print(i)\n",
    "    print()\n",
    "    if dp[i][1] + p > dp[-1][1]:\n",
    "        dp.append([e, dp[i][1] + p])"
   ]
  },
  {
   "cell_type": "code",
   "execution_count": 36,
   "metadata": {},
   "outputs": [],
   "source": [
    "startTime = [2, 2]\n",
    "endTime = [5, 5]\n",
    "profit = [50, 100]\n",
    "jobs = sorted(zip(startTime, endTime, profit), key=lambda v: v[1])"
   ]
  },
  {
   "cell_type": "code",
   "execution_count": 3,
   "metadata": {},
   "outputs": [],
   "source": [
    "import array\n",
    "\n",
    "test = array.array(\"i\", [1, 2, 3])"
   ]
  },
  {
   "cell_type": "code",
   "execution_count": 44,
   "metadata": {},
   "outputs": [
    {
     "data": {
      "text/plain": [
       "(5, '101')"
      ]
     },
     "execution_count": 44,
     "metadata": {},
     "output_type": "execute_result"
    }
   ],
   "source": [
    "num = 5\n",
    "bin_num = bin(num)[2:]\n",
    "num, bin_num"
   ]
  },
  {
   "cell_type": "code",
   "execution_count": 59,
   "metadata": {},
   "outputs": [],
   "source": [
    "num = 16"
   ]
  },
  {
   "cell_type": "code",
   "execution_count": 60,
   "metadata": {},
   "outputs": [
    {
     "data": {
      "text/plain": [
       "True"
      ]
     },
     "execution_count": 60,
     "metadata": {},
     "output_type": "execute_result"
    }
   ],
   "source": [
    "(num & num - 1) == 0"
   ]
  },
  {
   "cell_type": "code",
   "execution_count": 8,
   "metadata": {},
   "outputs": [
    {
     "name": "stdout",
     "output_type": "stream",
     "text": [
      "Time taken: 23.80 seconds\n"
     ]
    }
   ],
   "source": [
    "# Time how long it takes to iterate a billion times\n",
    "import time\n",
    "\n",
    "start = time.time()\n",
    "for i in range(int(1e9)):\n",
    "    pass\n",
    "\n",
    "end = time.time()\n",
    "time_taken = end - start\n",
    "\n",
    "print(f\"Time taken: {time_taken:.2f} seconds\")"
   ]
  },
  {
   "cell_type": "code",
   "execution_count": 11,
   "metadata": {},
   "outputs": [
    {
     "name": "stdout",
     "output_type": "stream",
     "text": [
      "Testing list size: 100\n",
      "  Zip: 0.000009 seconds\n",
      "  Loop: 0.000008 seconds\n",
      "  Pairwise: 0.000009 seconds\n",
      "  Traditional: 0.000004 seconds\n",
      "Testing list size: 1000\n",
      "  Zip: 0.000079 seconds\n",
      "  Loop: 0.000091 seconds\n",
      "  Pairwise: 0.000083 seconds\n",
      "  Traditional: 0.000055 seconds\n",
      "Testing list size: 10000\n",
      "  Zip: 0.000765 seconds\n",
      "  Loop: 0.000803 seconds\n",
      "  Pairwise: 0.000642 seconds\n",
      "  Traditional: 0.000431 seconds\n",
      "Testing list size: 100000\n",
      "  Zip: 0.006581 seconds\n",
      "  Loop: 0.007672 seconds\n",
      "  Pairwise: 0.006623 seconds\n",
      "  Traditional: 0.004533 seconds\n",
      "Testing list size: 1000000\n",
      "  Zip: 0.085022 seconds\n",
      "  Loop: 0.090309 seconds\n",
      "  Pairwise: 0.081654 seconds\n",
      "  Traditional: 0.057295 seconds\n",
      "Testing list size: 100000000\n",
      "  Zip: 14.503033 seconds\n",
      "  Loop: 10.711532 seconds\n",
      "  Pairwise: 22.108157 seconds\n",
      "  Traditional: 6.894970 seconds\n",
      "Graph saved as 'performance_comparison.png'\n"
     ]
    }
   ],
   "source": [
    "import timeit\n",
    "import random\n",
    "from itertools import pairwise\n",
    "import matplotlib.pyplot as plt\n",
    "\n",
    "\n",
    "def smallest_diff_zip(sorted_list):\n",
    "    return min(b - a for a, b in zip(sorted_list, sorted_list[1:]))\n",
    "\n",
    "\n",
    "def smallest_diff_loop(sorted_list):\n",
    "    return min(sorted_list[i + 1] - sorted_list[i] for i in range(len(sorted_list) - 1))\n",
    "\n",
    "\n",
    "def smallest_diff_pairwise(sorted_list):\n",
    "    return min(b - a for a, b in pairwise(sorted_list))\n",
    "\n",
    "\n",
    "def smallest_diff_traditional(sorted_list):\n",
    "    if len(sorted_list) < 2:\n",
    "        return None\n",
    "    smallest = float(\"inf\")\n",
    "    for i in range(1, len(sorted_list)):\n",
    "        diff = sorted_list[i] - sorted_list[i - 1]\n",
    "        if diff < smallest:\n",
    "            smallest = diff\n",
    "    return smallest\n",
    "\n",
    "\n",
    "def test_performance(func, list_size, num_tests=10):\n",
    "    test_list = sorted(random.randint(0, 1000000) for _ in range(list_size))\n",
    "    return timeit.timeit(lambda: func(test_list), number=num_tests) / num_tests\n",
    "\n",
    "\n",
    "# List sizes to test\n",
    "sizes = [100, 1000, 10000, 100000, 1_000_000, 100_000_000]\n",
    "\n",
    "# Test each function\n",
    "methods = [\n",
    "    (\"Zip\", smallest_diff_zip),\n",
    "    (\"Loop\", smallest_diff_loop),\n",
    "    (\"Pairwise\", smallest_diff_pairwise),\n",
    "    (\"Traditional\", smallest_diff_traditional),\n",
    "]\n",
    "\n",
    "results = {method: [] for method, _ in methods}\n",
    "\n",
    "for size in sizes:\n",
    "    print(f\"Testing list size: {size}\")\n",
    "    for method_name, func in methods:\n",
    "        time = test_performance(func, size)\n",
    "        results[method_name].append(time)\n",
    "        print(f\"  {method_name}: {time:.6f} seconds\")\n",
    "\n",
    "# Plotting\n",
    "plt.figure(figsize=(12, 6))\n",
    "for method_name, times in results.items():\n",
    "    plt.plot(sizes, times, marker=\"o\", label=method_name)\n",
    "\n",
    "plt.xscale(\"log\")\n",
    "plt.yscale(\"log\")\n",
    "plt.xlabel(\"List Size\")\n",
    "plt.ylabel(\"Execution Time (seconds)\")\n",
    "plt.title(\"Performance Comparison of Smallest Difference Methods\")\n",
    "plt.legend()\n",
    "plt.grid(True)\n",
    "\n",
    "plt.savefig(\"performance_comparison.png\")\n",
    "plt.close()\n",
    "\n",
    "print(\"Graph saved as 'performance_comparison.png'\")"
   ]
  },
  {
   "cell_type": "code",
   "execution_count": 16,
   "metadata": {},
   "outputs": [
    {
     "ename": "ImportError",
     "evalue": "cannot import name 'timer' from 'contextlib' (/opt/homebrew/Cellar/python@3.12/3.12.4/Frameworks/Python.framework/Versions/3.12/lib/python3.12/contextlib.py)",
     "output_type": "error",
     "traceback": [
      "\u001b[0;31m---------------------------------------------------------------------------\u001b[0m",
      "\u001b[0;31mImportError\u001b[0m                               Traceback (most recent call last)",
      "Cell \u001b[0;32mIn[16], line 1\u001b[0m\n\u001b[0;32m----> 1\u001b[0m \u001b[38;5;28;01mfrom\u001b[39;00m \u001b[38;5;21;01mcontextlib\u001b[39;00m \u001b[38;5;28;01mimport\u001b[39;00m timer\n\u001b[1;32m      3\u001b[0m \u001b[38;5;28;01mwith\u001b[39;00m timer() \u001b[38;5;28;01mas\u001b[39;00m t:\n\u001b[1;32m      4\u001b[0m     \u001b[38;5;66;03m# ... code to time ...\u001b[39;00m\n\u001b[1;32m      5\u001b[0m     \u001b[38;5;28mprint\u001b[39m(\u001b[38;5;241m2\u001b[39m\u001b[38;5;241m+\u001b[39m\u001b[38;5;241m2\u001b[39m)\n",
      "\u001b[0;31mImportError\u001b[0m: cannot import name 'timer' from 'contextlib' (/opt/homebrew/Cellar/python@3.12/3.12.4/Frameworks/Python.framework/Versions/3.12/lib/python3.12/contextlib.py)"
     ]
    }
   ],
   "source": [
    "from contextlib import timer\n",
    "\n",
    "with timer() as t:\n",
    "    # ... code to time ...\n",
    "    print(2 + 2)\n",
    "print(f\"Execution time: {t.elapsed} seconds\")"
   ]
  },
  {
   "cell_type": "code",
   "execution_count": 7,
   "metadata": {},
   "outputs": [],
   "source": [
    "from typing import List\n",
    "\n",
    "import heapq\n",
    "\n",
    "[6, 6, 0, 1, 1, 4, 6]\n",
    "\n",
    "import heapq\n",
    "\n",
    "\n",
    "class Solution:\n",
    "    def minDifference(self, nums: List[int]) -> int:\n",
    "        heapq.heapify(nums)  # O(n) time\n",
    "        small = heapq.nsmallest(4, nums)  # O(logn) time\n",
    "        large = heapq.nlargest(4, nums)  # O(logn) time\n",
    "        large.reverse()  # O(n) time\n",
    "        return min(x - y for x, y in zip(large, small))  # O(1) time\n",
    "\n",
    "\n",
    "class Solution1:\n",
    "    def minDifference(self, nums: List[int]) -> int:\n",
    "        nums_size = len(nums)\n",
    "        if nums_size <= 4:\n",
    "            return 0\n",
    "\n",
    "        # Find the four smallest elements\n",
    "        smallest_four = sorted(heapq.nsmallest(4, nums))\n",
    "\n",
    "        # Find the four largest elements\n",
    "        largest_four = sorted(heapq.nlargest(4, nums))\n",
    "\n",
    "        min_diff = float(\"inf\")\n",
    "        # Four scenarios to compute the minimum difference\n",
    "        for i in range(4):\n",
    "            min_diff = min(min_diff, largest_four[i] - smallest_four[i])\n",
    "\n",
    "        return min_diff"
   ]
  },
  {
   "cell_type": "code",
   "execution_count": null,
   "metadata": {},
   "outputs": [
    {
     "name": "stdout",
     "output_type": "stream",
     "text": [
      "zip method: 0.6419377499987604\n",
      "loop method: 0.7776179170032265\n",
      "pairwise method: 0.6610853750025854\n",
      "traditional method: 0.4242059170064749\n"
     ]
    }
   ],
   "source": [
    "import timeit\n",
    "import random\n",
    "from itertools import pairwise\n",
    "\n",
    "\n",
    "def smallest_diff_zip(sorted_list):\n",
    "    return min(b - a for a, b in zip(sorted_list, sorted_list[1:]))\n",
    "\n",
    "\n",
    "def smallest_diff_loop(sorted_list):\n",
    "    return min(sorted_list[i + 1] - sorted_list[i] for i in range(len(sorted_list) - 1))\n",
    "\n",
    "\n",
    "def smallest_diff_pairwise(sorted_list):\n",
    "    return min(b - a for a, b in pairwise(sorted_list))\n",
    "\n",
    "\n",
    "def smallest_diff_traditional(sorted_list):\n",
    "    if len(sorted_list) < 2:\n",
    "        return None\n",
    "    smallest = float(\"inf\")\n",
    "    for i in range(1, len(sorted_list)):\n",
    "        diff = sorted_list[i] - sorted_list[i - 1]\n",
    "        if diff < smallest:\n",
    "            smallest = diff\n",
    "    return smallest\n",
    "\n",
    "\n",
    "# Generate a large sorted list for testing\n",
    "test_list = sorted(random.randint(0, 1000000) for _ in range(100_000))\n",
    "\n",
    "# Test each function\n",
    "print(\"zip method:\", timeit.timeit(lambda: smallest_diff_zip(test_list), number=100))\n",
    "print(\"loop method:\", timeit.timeit(lambda: smallest_diff_loop(test_list), number=100))\n",
    "print(\n",
    "    \"pairwise method:\",\n",
    "    timeit.timeit(lambda: smallest_diff_pairwise(test_list), number=100),\n",
    ")\n",
    "print(\n",
    "    \"traditional method:\",\n",
    "    timeit.timeit(lambda: smallest_diff_traditional(test_list), number=100),\n",
    ")"
   ]
  },
  {
   "cell_type": "code",
   "execution_count": null,
   "metadata": {},
   "outputs": [
    {
     "data": {
      "text/plain": [
       "0.7013193750026403"
      ]
     },
     "metadata": {},
     "output_type": "display_data"
    }
   ],
   "source": [
    "timeit.timeit(lambda: smallest_diff_zip(test_list), number=100)"
   ]
  },
  {
   "cell_type": "code",
   "execution_count": null,
   "metadata": {},
   "outputs": [
    {
     "data": {
      "text/plain": [
       "1"
      ]
     },
     "metadata": {},
     "output_type": "display_data"
    }
   ],
   "source": [
    "s = [1, 2, 3, 4, 5, 6, 7, 8]\n",
    "n = 3\n",
    "\n",
    "result = list(zip(*[iter(s)] * n))\n",
    "s.count(4)"
   ]
  },
  {
   "cell_type": "code",
   "execution_count": null,
   "metadata": {},
   "outputs": [
    {
     "name": "stdout",
     "output_type": "stream",
     "text": [
      "[[1, 2, 3], [4, 5, 6], [7, 8]]\n"
     ]
    },
    {
     "data": {
      "text/plain": [
       "[5, 6, 7, 8]"
      ]
     },
     "metadata": {},
     "output_type": "display_data"
    }
   ],
   "source": [
    "s = [1, 2, 3, 4, 5, 6, 7, 8]\n",
    "n = 3\n",
    "\n",
    "# Using list comprehension and slicing to create non-overlapping groups\n",
    "result = [s[i : i + n] for i in range(0, len(s), n)]\n",
    "print(result)  # Output: [[1, 2, 3], [4, 5, 6], [7, 8]]\n",
    "\n",
    "s[4:10]"
   ]
  },
  {
   "cell_type": "code",
   "execution_count": null,
   "metadata": {},
   "outputs": [
    {
     "name": "stdout",
     "output_type": "stream",
     "text": [
      "1 2 3 \n",
      "[(4, 5, 6)]\n"
     ]
    }
   ],
   "source": [
    "s = [1, 2, 3, 4, 5, 6, 7, 8]\n",
    "n = 3\n",
    "\n",
    "iter_s = iter(s)\n",
    "iters = [iter_s] * n\n",
    "\n",
    "for i in iters:\n",
    "    print(next(i), end=\" \")  # Advance the iterator and print each step\n",
    "print()\n",
    "\n",
    "result = list(zip(*iters))\n",
    "print(result)  # Output: [(1, 2, 3), (4, 5, 6), (7, 8)]"
   ]
  },
  {
   "cell_type": "code",
   "execution_count": null,
   "metadata": {},
   "outputs": [
    {
     "name": "stdout",
     "output_type": "stream",
     "text": [
      "next() called on LoggingIterator at index 0: 1\n",
      "next() called on LoggingIterator at index 1: 2\n",
      "next() called on LoggingIterator at index 2: 3\n",
      "next() called on LoggingIterator at index 3: 4\n",
      "next() called on LoggingIterator at index 4: 5\n",
      "next() called on LoggingIterator at index 5: 6\n",
      "next() called on LoggingIterator at index 6: 7\n",
      "next() called on LoggingIterator at index 7: 8\n",
      "[(1, 2, 3), (4, 5, 6)]\n"
     ]
    }
   ],
   "source": [
    "class LoggingIterator:\n",
    "    def __init__(self, iterable):\n",
    "        self.iterator = iter(iterable)\n",
    "        self.index = 0\n",
    "\n",
    "    def __iter__(self):\n",
    "        return self\n",
    "\n",
    "    def __next__(self):\n",
    "        value = next(self.iterator)\n",
    "        print(f\"next() called on LoggingIterator at index {self.index}: {value}\")\n",
    "        self.index += 1\n",
    "        return value\n",
    "\n",
    "\n",
    "s = [1, 2, 3, 4, 5, 6, 7, 8]\n",
    "n = 3\n",
    "\n",
    "logging_iterator = LoggingIterator(s)\n",
    "result = list(zip(*[logging_iterator] * n))\n",
    "print(result)"
   ]
  },
  {
   "cell_type": "code",
   "execution_count": null,
   "metadata": {},
   "outputs": [
    {
     "name": "stdout",
     "output_type": "stream",
     "text": [
      "Read: asdf\n",
      "Read: adf\n",
      "Read: stop\n"
     ]
    }
   ],
   "source": [
    "def read_next():\n",
    "    data = input(\"Enter data (or 'STOP' to end): \")\n",
    "    return data\n",
    "\n",
    "\n",
    "data_iterator = iter(read_next, \"STOP\")\n",
    "\n",
    "for item in data_iterator:\n",
    "    print(f\"Read: {item}\")"
   ]
  },
  {
   "cell_type": "code",
   "execution_count": null,
   "metadata": {},
   "outputs": [],
   "source": [
    "import bisect\n",
    "\n",
    "difficulty = [2, 4, 6, 8, 10, 2, 4, 10, 100]\n",
    "profit = [3, 5, 7, 9, 11, 4, 2, 11, 1]\n",
    "workers = [-1, 0, 1, 2, 4, 10, 20, 2, 40, 101, 1e300, float(\"inf\")]\n",
    "jobs = sorted(zip(difficulty, profit))\n",
    "max_profit_at_difficulty = []\n",
    "max_profit = 0\n",
    "for d, p in jobs:\n",
    "    max_profit = max(max_profit, p)\n",
    "    max_profit_at_difficulty.append((d, max_profit))\n",
    "\n",
    "\n",
    "difficulties, profits = zip(*max_profit_at_difficulty)\n",
    "\n",
    "total = 0\n",
    "for w in workers:\n",
    "    idx = bisect.bisect(difficulties, w)\n",
    "    test = bisect.bisect(max_profit_at_difficulty, w, key=lambda x: x[0])"
   ]
  },
  {
   "cell_type": "code",
   "execution_count": null,
   "metadata": {},
   "outputs": [
    {
     "data": {
      "text/plain": [
       "[80, 40, 20, 40, 16]"
      ]
     },
     "metadata": {},
     "output_type": "display_data"
    }
   ],
   "source": [
    "# Product except self\n",
    "test = [1, 2, 4, 2, 5]\n",
    "# Calculate forward product\n",
    "forward = [1]\n",
    "for i in range(1, len(test)):\n",
    "    forward.append(forward[-1] * test[i])\n",
    "# Calculate backward product\n",
    "backward = [test[-1]]\n",
    "for i in range(len(test) - 2, -1, -1):\n",
    "    backward.append(backward[-1] * test[i])\n",
    "backward = backward[::-1]\n",
    "# Calculate product except self\n",
    "result = []\n",
    "for i in range(len(test)):\n",
    "    if i == 0:\n",
    "        result.append(backward[i + 1])\n",
    "    elif i == len(test) - 1:\n",
    "        result.append(forward[i - 1])\n",
    "    else:\n",
    "        result.append(forward[i - 1] * backward[i + 1])\n",
    "result"
   ]
  },
  {
   "cell_type": "code",
   "execution_count": null,
   "metadata": {},
   "outputs": [
    {
     "name": "stdout",
     "output_type": "stream",
     "text": [
      "Counter({2: 3, 3: 2, 4: 2, 1: 1, 5: 1})\n",
      "(4, 2)\n"
     ]
    },
    {
     "data": {
      "text/plain": [
       "['__add__',\n",
       " '__and__',\n",
       " '__class__',\n",
       " '__class_getitem__',\n",
       " '__contains__',\n",
       " '__delattr__',\n",
       " '__delitem__',\n",
       " '__dict__',\n",
       " '__dir__',\n",
       " '__doc__',\n",
       " '__eq__',\n",
       " '__format__',\n",
       " '__ge__',\n",
       " '__getattribute__',\n",
       " '__getitem__',\n",
       " '__getstate__',\n",
       " '__gt__',\n",
       " '__hash__',\n",
       " '__iadd__',\n",
       " '__iand__',\n",
       " '__init__',\n",
       " '__init_subclass__',\n",
       " '__ior__',\n",
       " '__isub__',\n",
       " '__iter__',\n",
       " '__le__',\n",
       " '__len__',\n",
       " '__lt__',\n",
       " '__missing__',\n",
       " '__module__',\n",
       " '__ne__',\n",
       " '__neg__',\n",
       " '__new__',\n",
       " '__or__',\n",
       " '__pos__',\n",
       " '__reduce__',\n",
       " '__reduce_ex__',\n",
       " '__repr__',\n",
       " '__reversed__',\n",
       " '__ror__',\n",
       " '__setattr__',\n",
       " '__setitem__',\n",
       " '__sizeof__',\n",
       " '__str__',\n",
       " '__sub__',\n",
       " '__subclasshook__',\n",
       " '__weakref__',\n",
       " '_keep_positive',\n",
       " 'clear',\n",
       " 'copy',\n",
       " 'elements',\n",
       " 'fromkeys',\n",
       " 'get',\n",
       " 'items',\n",
       " 'keys',\n",
       " 'most_common',\n",
       " 'pop',\n",
       " 'popitem',\n",
       " 'setdefault',\n",
       " 'subtract',\n",
       " 'total',\n",
       " 'update',\n",
       " 'values']"
      ]
     },
     "metadata": {},
     "output_type": "display_data"
    }
   ],
   "source": [
    "from collections import defaultdict, Counter\n",
    "\n",
    "# test = defaultdict(int)\n",
    "# print(\"a\" in test)\n",
    "# print(test)\n",
    "# test[\"a\"]\n",
    "# print(test.keys())\n",
    "# print(\"a\" in test)\n",
    "\n",
    "test = Counter([1, 3, 3, 2, 5, 2, 4, 4, 2])\n",
    "print(test)\n",
    "print(test.popitem())\n",
    "\n",
    "dir(test)"
   ]
  },
  {
   "cell_type": "code",
   "execution_count": null,
   "metadata": {},
   "outputs": [
    {
     "data": {
      "text/plain": [
       "(1, [(10, 'asdf'), (20, 'avasdf;lkj'), (30, 'dfvdj')])"
      ]
     },
     "metadata": {},
     "output_type": "display_data"
    }
   ],
   "source": [
    "test = [(10, \"asdf\"), (20, \"avasdf;lkj\"), (30, \"dfvdj\")]\n",
    "\n",
    "test_two = [i[0] for i in test]\n",
    "import bisect\n",
    "\n",
    "i = bisect.bisect(test, (10, \"zzzzzzz\"))\n",
    "\n",
    "i, test"
   ]
  },
  {
   "cell_type": "code",
   "execution_count": null,
   "metadata": {},
   "outputs": [
    {
     "name": "stdout",
     "output_type": "stream",
     "text": [
      "JOB\n",
      "2 5 50\n",
      "[[0, 0], [2, 100]]\n",
      "1\n",
      "\n",
      "JOB\n",
      "2 5 100\n",
      "[[0, 0], [2, 100], [5, 150]]\n",
      "1\n",
      "\n"
     ]
    }
   ],
   "source": [
    "import bisect\n",
    "\n",
    "dp = [[0, 0], [2, 100]]\n",
    "\n",
    "for s, e, p in [[2, 5, 50], [2, 5, 100]]:\n",
    "    print(\"JOB\")\n",
    "    print(s, e, p)\n",
    "    print(dp)\n",
    "    i = bisect.bisect(dp, [s + 1]) - 1\n",
    "    print(i)\n",
    "    print()\n",
    "    if dp[i][1] + p > dp[-1][1]:\n",
    "        dp.append([e, dp[i][1] + p])"
   ]
  },
  {
   "cell_type": "code",
   "execution_count": null,
   "metadata": {},
   "outputs": [],
   "source": [
    "startTime = [2, 2]\n",
    "endTime = [5, 5]\n",
    "profit = [50, 100]\n",
    "jobs = sorted(zip(startTime, endTime, profit), key=lambda v: v[1])"
   ]
  },
  {
   "cell_type": "code",
   "execution_count": null,
   "metadata": {},
   "outputs": [],
   "source": [
    "import array\n",
    "\n",
    "test = array.array(\"i\", [1, 2, 3])"
   ]
  },
  {
   "cell_type": "code",
   "execution_count": null,
   "metadata": {},
   "outputs": [
    {
     "data": {
      "text/plain": [
       "(5, '101')"
      ]
     },
     "metadata": {},
     "output_type": "display_data"
    }
   ],
   "source": [
    "num = 5\n",
    "bin_num = bin(num)[2:]\n",
    "num, bin_num"
   ]
  },
  {
   "cell_type": "code",
   "execution_count": null,
   "metadata": {},
   "outputs": [],
   "source": [
    "num = 16"
   ]
  },
  {
   "cell_type": "code",
   "execution_count": null,
   "metadata": {},
   "outputs": [
    {
     "data": {
      "text/plain": [
       "True"
      ]
     },
     "metadata": {},
     "output_type": "display_data"
    }
   ],
   "source": [
    "(num & num - 1) == 0"
   ]
  },
  {
   "cell_type": "code",
   "execution_count": null,
   "metadata": {},
   "outputs": [
    {
     "name": "stdout",
     "output_type": "stream",
     "text": [
      "Time taken: 23.80 seconds\n"
     ]
    }
   ],
   "source": [
    "# Time how long it takes to iterate a billion times\n",
    "import time\n",
    "\n",
    "start = time.time()\n",
    "for i in range(int(1e9)):\n",
    "    pass\n",
    "\n",
    "end = time.time()\n",
    "time_taken = end - start\n",
    "\n",
    "print(f\"Time taken: {time_taken:.2f} seconds\")"
   ]
  },
  {
   "cell_type": "code",
   "execution_count": null,
   "metadata": {},
   "outputs": [
    {
     "name": "stdout",
     "output_type": "stream",
     "text": [
      "Testing list size: 100\n",
      "  Zip: 0.000009 seconds\n",
      "  Loop: 0.000008 seconds\n",
      "  Pairwise: 0.000009 seconds\n",
      "  Traditional: 0.000004 seconds\n",
      "Testing list size: 1000\n",
      "  Zip: 0.000079 seconds\n",
      "  Loop: 0.000091 seconds\n",
      "  Pairwise: 0.000083 seconds\n",
      "  Traditional: 0.000055 seconds\n",
      "Testing list size: 10000\n",
      "  Zip: 0.000765 seconds\n",
      "  Loop: 0.000803 seconds\n",
      "  Pairwise: 0.000642 seconds\n",
      "  Traditional: 0.000431 seconds\n",
      "Testing list size: 100000\n",
      "  Zip: 0.006581 seconds\n",
      "  Loop: 0.007672 seconds\n",
      "  Pairwise: 0.006623 seconds\n",
      "  Traditional: 0.004533 seconds\n",
      "Testing list size: 1000000\n",
      "  Zip: 0.085022 seconds\n",
      "  Loop: 0.090309 seconds\n",
      "  Pairwise: 0.081654 seconds\n",
      "  Traditional: 0.057295 seconds\n",
      "Testing list size: 100000000\n",
      "  Zip: 14.503033 seconds\n",
      "  Loop: 10.711532 seconds\n",
      "  Pairwise: 22.108157 seconds\n",
      "  Traditional: 6.894970 seconds\n",
      "Graph saved as 'performance_comparison.png'\n"
     ]
    }
   ],
   "source": [
    "import timeit\n",
    "import random\n",
    "from itertools import pairwise\n",
    "import matplotlib.pyplot as plt\n",
    "\n",
    "\n",
    "def smallest_diff_zip(sorted_list):\n",
    "    return min(b - a for a, b in zip(sorted_list, sorted_list[1:]))\n",
    "\n",
    "\n",
    "def smallest_diff_loop(sorted_list):\n",
    "    return min(sorted_list[i + 1] - sorted_list[i] for i in range(len(sorted_list) - 1))\n",
    "\n",
    "\n",
    "def smallest_diff_pairwise(sorted_list):\n",
    "    return min(b - a for a, b in pairwise(sorted_list))\n",
    "\n",
    "\n",
    "def smallest_diff_traditional(sorted_list):\n",
    "    if len(sorted_list) < 2:\n",
    "        return None\n",
    "    smallest = float(\"inf\")\n",
    "    for i in range(1, len(sorted_list)):\n",
    "        diff = sorted_list[i] - sorted_list[i - 1]\n",
    "        if diff < smallest:\n",
    "            smallest = diff\n",
    "    return smallest\n",
    "\n",
    "\n",
    "def test_performance(func, list_size, num_tests=10):\n",
    "    test_list = sorted(random.randint(0, 1000000) for _ in range(list_size))\n",
    "    return timeit.timeit(lambda: func(test_list), number=num_tests) / num_tests\n",
    "\n",
    "\n",
    "# List sizes to test\n",
    "sizes = [100, 1000, 10000, 100000, 1_000_000, 100_000_000]\n",
    "\n",
    "# Test each function\n",
    "methods = [\n",
    "    (\"Zip\", smallest_diff_zip),\n",
    "    (\"Loop\", smallest_diff_loop),\n",
    "    (\"Pairwise\", smallest_diff_pairwise),\n",
    "    (\"Traditional\", smallest_diff_traditional),\n",
    "]\n",
    "\n",
    "results = {method: [] for method, _ in methods}\n",
    "\n",
    "for size in sizes:\n",
    "    print(f\"Testing list size: {size}\")\n",
    "    for method_name, func in methods:\n",
    "        time = test_performance(func, size)\n",
    "        results[method_name].append(time)\n",
    "        print(f\"  {method_name}: {time:.6f} seconds\")\n",
    "\n",
    "# Plotting\n",
    "plt.figure(figsize=(12, 6))\n",
    "for method_name, times in results.items():\n",
    "    plt.plot(sizes, times, marker=\"o\", label=method_name)\n",
    "\n",
    "plt.xscale(\"log\")\n",
    "plt.yscale(\"log\")\n",
    "plt.xlabel(\"List Size\")\n",
    "plt.ylabel(\"Execution Time (seconds)\")\n",
    "plt.title(\"Performance Comparison of Smallest Difference Methods\")\n",
    "plt.legend()\n",
    "plt.grid(True)\n",
    "\n",
    "plt.savefig(\"performance_comparison.png\")\n",
    "plt.close()\n",
    "\n",
    "print(\"Graph saved as 'performance_comparison.png'\")"
   ]
  },
  {
   "cell_type": "code",
   "execution_count": null,
   "metadata": {},
   "outputs": [
    {
     "ename": "ImportError",
     "evalue": "cannot import name 'timer' from 'contextlib' (/opt/homebrew/Cellar/python@3.12/3.12.4/Frameworks/Python.framework/Versions/3.12/lib/python3.12/contextlib.py)",
     "output_type": "error",
     "traceback": [
      "\u001b[0;31m---------------------------------------------------------------------------\u001b[0m\n",
      "\u001b[0;31mImportError\u001b[0m                               Traceback (most recent call last)\n",
      "Cell \u001b[0;32mIn[16], line 1\u001b[0m\n",
      "\u001b[0;32m----> 1\u001b[0m \u001b[38;5;28;01mfrom\u001b[39;00m \u001b[38;5;21;01mcontextlib\u001b[39;00m \u001b[38;5;28;01mimport\u001b[39;00m timer\n",
      "\u001b[1;32m      3\u001b[0m \u001b[38;5;28;01mwith\u001b[39;00m timer() \u001b[38;5;28;01mas\u001b[39;00m t:\n",
      "\u001b[1;32m      4\u001b[0m     \u001b[38;5;66;03m# ... code to time ...\u001b[39;00m\n",
      "\u001b[1;32m      5\u001b[0m     \u001b[38;5;28mprint\u001b[39m(\u001b[38;5;241m2\u001b[39m\u001b[38;5;241m+\u001b[39m\u001b[38;5;241m2\u001b[39m)\n",
      "\n",
      "\u001b[0;31mImportError\u001b[0m: cannot import name 'timer' from 'contextlib' (/opt/homebrew/Cellar/python@3.12/3.12.4/Frameworks/Python.framework/Versions/3.12/lib/python3.12/contextlib.py)"
     ]
    }
   ],
   "source": [
    "from contextlib import timer\n",
    "\n",
    "with timer() as t:\n",
    "    # ... code to time ...\n",
    "    print(2 + 2)\n",
    "print(f\"Execution time: {t.elapsed} seconds\")"
   ]
  },
  {
   "cell_type": "code",
   "execution_count": null,
   "metadata": {},
   "outputs": [],
   "source": [
    "from typing import List\n",
    "\n",
    "import heapq\n",
    "\n",
    "[6, 6, 0, 1, 1, 4, 6]\n",
    "\n",
    "import heapq\n",
    "\n",
    "\n",
    "class Solution:\n",
    "    def minDifference(self, nums: List[int]) -> int:\n",
    "        heapq.heapify(nums)  # O(n) time\n",
    "        small = heapq.nsmallest(4, nums)  # O(logn) time\n",
    "        large = heapq.nlargest(4, nums)  # O(logn) time\n",
    "        large.reverse()  # O(n) time\n",
    "        return min(x - y for x, y in zip(large, small))  # O(1) time\n",
    "\n",
    "\n",
    "class Solution1:\n",
    "    def minDifference(self, nums: List[int]) -> int:\n",
    "        nums_size = len(nums)\n",
    "        if nums_size <= 4:\n",
    "            return 0\n",
    "\n",
    "        # Find the four smallest elements\n",
    "        smallest_four = sorted(heapq.nsmallest(4, nums))\n",
    "\n",
    "        # Find the four largest elements\n",
    "        largest_four = sorted(heapq.nlargest(4, nums))\n",
    "\n",
    "        min_diff = float(\"inf\")\n",
    "        # Four scenarios to compute the minimum difference\n",
    "        for i in range(4):\n",
    "            min_diff = min(min_diff, largest_four[i] - smallest_four[i])\n",
    "\n",
    "        return min_diff"
   ]
  },
  {
   "cell_type": "code",
   "execution_count": null,
   "metadata": {},
   "outputs": [
    {
     "name": "stdout",
     "output_type": "stream",
     "text": [
      "zip method: 0.6419377499987604\n",
      "loop method: 0.7776179170032265\n",
      "pairwise method: 0.6610853750025854\n",
      "traditional method: 0.4242059170064749\n"
     ]
    }
   ],
   "source": [
    "import heapq\n",
    "import timeit\n",
    "\n",
    "\n",
    "def with_heapify(nums):\n",
    "    heapq.heapify(nums)\n",
    "    small = heapq.nsmallest(4, nums)\n",
    "    large = heapq.nlargest(4, nums)\n",
    "\n",
    "\n",
    "def without_heapify(nums):\n",
    "    small = heapq.nsmallest(4, nums)\n",
    "    large = heapq.nlargest(4, nums)\n",
    "\n",
    "\n",
    "# Test with a large list\n",
    "test_list = list(range(1000000))\n",
    "\n",
    "# Time the function with heapify\n",
    "time_with = timeit.timeit(lambda: with_heapify(test_list.copy()), number=100)\n",
    "\n",
    "# Time the function without heapify\n",
    "time_without = timeit.timeit(lambda: without_heapify(test_list.copy()), number=100)\n",
    "\n",
    "print(f\"Time with heapify: {time_with}\")\n",
    "print(f\"Time without heapify: {time_without}\")\n",
    "print(f\"Difference: {time_with - time_without}\")"
   ]
  },
  {
   "cell_type": "code",
   "execution_count": null,
   "metadata": {},
   "outputs": [
    {
     "data": {
      "text/plain": [
       "0.7013193750026403"
      ]
     },
     "metadata": {},
     "output_type": "display_data"
    }
   ],
   "source": [
    "timeit.timeit(lambda: smallest_diff_zip(test_list), number=100)"
   ]
  },
  {
   "cell_type": "code",
   "execution_count": null,
   "metadata": {},
   "outputs": [
    {
     "data": {
      "text/plain": [
       "1"
      ]
     },
     "metadata": {},
     "output_type": "display_data"
    }
   ],
   "source": [
    "s = [1, 2, 3, 4, 5, 6, 7, 8]\n",
    "n = 3\n",
    "\n",
    "result = list(zip(*[iter(s)] * n))\n",
    "s.count(4)"
   ]
  },
  {
   "cell_type": "code",
   "execution_count": null,
   "metadata": {},
   "outputs": [
    {
     "name": "stdout",
     "output_type": "stream",
     "text": [
      "[[1, 2, 3], [4, 5, 6], [7, 8]]\n"
     ]
    },
    {
     "data": {
      "text/plain": [
       "[5, 6, 7, 8]"
      ]
     },
     "metadata": {},
     "output_type": "display_data"
    }
   ],
   "source": [
    "s = [1, 2, 3, 4, 5, 6, 7, 8]\n",
    "n = 3\n",
    "\n",
    "# Using list comprehension and slicing to create non-overlapping groups\n",
    "result = [s[i : i + n] for i in range(0, len(s), n)]\n",
    "print(result)  # Output: [[1, 2, 3], [4, 5, 6], [7, 8]]\n",
    "\n",
    "s[4:10]"
   ]
  },
  {
   "cell_type": "code",
   "execution_count": null,
   "metadata": {},
   "outputs": [
    {
     "name": "stdout",
     "output_type": "stream",
     "text": [
      "1 2 3 \n",
      "[(4, 5, 6)]\n"
     ]
    }
   ],
   "source": [
    "s = [1, 2, 3, 4, 5, 6, 7, 8]\n",
    "n = 3\n",
    "\n",
    "iter_s = iter(s)\n",
    "iters = [iter_s] * n\n",
    "\n",
    "for i in iters:\n",
    "    print(next(i), end=\" \")  # Advance the iterator and print each step\n",
    "print()\n",
    "\n",
    "result = list(zip(*iters))\n",
    "print(result)  # Output: [(1, 2, 3), (4, 5, 6), (7, 8)]"
   ]
  },
  {
   "cell_type": "code",
   "execution_count": null,
   "metadata": {},
   "outputs": [
    {
     "name": "stdout",
     "output_type": "stream",
     "text": [
      "next() called on LoggingIterator at index 0: 1\n",
      "next() called on LoggingIterator at index 1: 2\n",
      "next() called on LoggingIterator at index 2: 3\n",
      "next() called on LoggingIterator at index 3: 4\n",
      "next() called on LoggingIterator at index 4: 5\n",
      "next() called on LoggingIterator at index 5: 6\n",
      "next() called on LoggingIterator at index 6: 7\n",
      "next() called on LoggingIterator at index 7: 8\n",
      "[(1, 2, 3), (4, 5, 6)]\n"
     ]
    }
   ],
   "source": [
    "class LoggingIterator:\n",
    "    def __init__(self, iterable):\n",
    "        self.iterator = iter(iterable)\n",
    "        self.index = 0\n",
    "\n",
    "    def __iter__(self):\n",
    "        return self\n",
    "\n",
    "    def __next__(self):\n",
    "        value = next(self.iterator)\n",
    "        print(f\"next() called on LoggingIterator at index {self.index}: {value}\")\n",
    "        self.index += 1\n",
    "        return value\n",
    "\n",
    "\n",
    "s = [1, 2, 3, 4, 5, 6, 7, 8]\n",
    "n = 3\n",
    "\n",
    "logging_iterator = LoggingIterator(s)\n",
    "result = list(zip(*[logging_iterator] * n))\n",
    "print(result)"
   ]
  },
  {
   "cell_type": "code",
   "execution_count": null,
   "metadata": {},
   "outputs": [
    {
     "name": "stdout",
     "output_type": "stream",
     "text": [
      "Read: asdf\n",
      "Read: adf\n",
      "Read: stop\n"
     ]
    }
   ],
   "source": [
    "def read_next():\n",
    "    data = input(\"Enter data (or 'STOP' to end): \")\n",
    "    return data\n",
    "\n",
    "\n",
    "data_iterator = iter(read_next, \"STOP\")\n",
    "\n",
    "for item in data_iterator:\n",
    "    print(f\"Read: {item}\")"
   ]
  },
  {
   "cell_type": "code",
   "execution_count": null,
   "metadata": {},
   "outputs": [],
   "source": [
    "import bisect\n",
    "\n",
    "difficulty = [2, 4, 6, 8, 10, 2, 4, 10, 100]\n",
    "profit = [3, 5, 7, 9, 11, 4, 2, 11, 1]\n",
    "workers = [-1, 0, 1, 2, 4, 10, 20, 2, 40, 101, 1e300, float(\"inf\")]\n",
    "jobs = sorted(zip(difficulty, profit))\n",
    "max_profit_at_difficulty = []\n",
    "max_profit = 0\n",
    "for d, p in jobs:\n",
    "    max_profit = max(max_profit, p)\n",
    "    max_profit_at_difficulty.append((d, max_profit))\n",
    "\n",
    "\n",
    "difficulties, profits = zip(*max_profit_at_difficulty)\n",
    "\n",
    "total = 0\n",
    "for w in workers:\n",
    "    idx = bisect.bisect(difficulties, w)\n",
    "    test = bisect.bisect(max_profit_at_difficulty, w, key=lambda x: x[0])"
   ]
  },
  {
   "cell_type": "code",
   "execution_count": null,
   "metadata": {},
   "outputs": [
    {
     "data": {
      "text/plain": [
       "[80, 40, 20, 40, 16]"
      ]
     },
     "metadata": {},
     "output_type": "display_data"
    }
   ],
   "source": [
    "# Product except self\n",
    "test = [1, 2, 4, 2, 5]\n",
    "# Calculate forward product\n",
    "forward = [1]\n",
    "for i in range(1, len(test)):\n",
    "    forward.append(forward[-1] * test[i])\n",
    "# Calculate backward product\n",
    "backward = [test[-1]]\n",
    "for i in range(len(test) - 2, -1, -1):\n",
    "    backward.append(backward[-1] * test[i])\n",
    "backward = backward[::-1]\n",
    "# Calculate product except self\n",
    "result = []\n",
    "for i in range(len(test)):\n",
    "    if i == 0:\n",
    "        result.append(backward[i + 1])\n",
    "    elif i == len(test) - 1:\n",
    "        result.append(forward[i - 1])\n",
    "    else:\n",
    "        result.append(forward[i - 1] * backward[i + 1])\n",
    "result"
   ]
  },
  {
   "cell_type": "code",
   "execution_count": null,
   "metadata": {},
   "outputs": [
    {
     "name": "stdout",
     "output_type": "stream",
     "text": [
      "Counter({2: 3, 3: 2, 4: 2, 1: 1, 5: 1})\n",
      "(4, 2)\n"
     ]
    },
    {
     "data": {
      "text/plain": [
       "['__add__',\n",
       " '__and__',\n",
       " '__class__',\n",
       " '__class_getitem__',\n",
       " '__contains__',\n",
       " '__delattr__',\n",
       " '__delitem__',\n",
       " '__dict__',\n",
       " '__dir__',\n",
       " '__doc__',\n",
       " '__eq__',\n",
       " '__format__',\n",
       " '__ge__',\n",
       " '__getattribute__',\n",
       " '__getitem__',\n",
       " '__getstate__',\n",
       " '__gt__',\n",
       " '__hash__',\n",
       " '__iadd__',\n",
       " '__iand__',\n",
       " '__init__',\n",
       " '__init_subclass__',\n",
       " '__ior__',\n",
       " '__isub__',\n",
       " '__iter__',\n",
       " '__le__',\n",
       " '__len__',\n",
       " '__lt__',\n",
       " '__missing__',\n",
       " '__module__',\n",
       " '__ne__',\n",
       " '__neg__',\n",
       " '__new__',\n",
       " '__or__',\n",
       " '__pos__',\n",
       " '__reduce__',\n",
       " '__reduce_ex__',\n",
       " '__repr__',\n",
       " '__reversed__',\n",
       " '__ror__',\n",
       " '__setattr__',\n",
       " '__setitem__',\n",
       " '__sizeof__',\n",
       " '__str__',\n",
       " '__sub__',\n",
       " '__subclasshook__',\n",
       " '__weakref__',\n",
       " '_keep_positive',\n",
       " 'clear',\n",
       " 'copy',\n",
       " 'elements',\n",
       " 'fromkeys',\n",
       " 'get',\n",
       " 'items',\n",
       " 'keys',\n",
       " 'most_common',\n",
       " 'pop',\n",
       " 'popitem',\n",
       " 'setdefault',\n",
       " 'subtract',\n",
       " 'total',\n",
       " 'update',\n",
       " 'values']"
      ]
     },
     "metadata": {},
     "output_type": "display_data"
    }
   ],
   "source": [
    "from collections import defaultdict, Counter\n",
    "\n",
    "# test = defaultdict(int)\n",
    "# print(\"a\" in test)\n",
    "# print(test)\n",
    "# test[\"a\"]\n",
    "# print(test.keys())\n",
    "# print(\"a\" in test)\n",
    "\n",
    "test = Counter([1, 3, 3, 2, 5, 2, 4, 4, 2])\n",
    "print(test)\n",
    "print(test.popitem())\n",
    "\n",
    "dir(test)"
   ]
  },
  {
   "cell_type": "code",
   "execution_count": null,
   "metadata": {},
   "outputs": [
    {
     "data": {
      "text/plain": [
       "(1, [(10, 'asdf'), (20, 'avasdf;lkj'), (30, 'dfvdj')])"
      ]
     },
     "metadata": {},
     "output_type": "display_data"
    }
   ],
   "source": [
    "test = [(10, \"asdf\"), (20, \"avasdf;lkj\"), (30, \"dfvdj\")]\n",
    "\n",
    "test_two = [i[0] for i in test]\n",
    "import bisect\n",
    "\n",
    "i = bisect.bisect(test, (10, \"zzzzzzz\"))\n",
    "\n",
    "i, test"
   ]
  },
  {
   "cell_type": "code",
   "execution_count": null,
   "metadata": {},
   "outputs": [
    {
     "name": "stdout",
     "output_type": "stream",
     "text": [
      "JOB\n",
      "2 5 50\n",
      "[[0, 0], [2, 100]]\n",
      "1\n",
      "\n",
      "JOB\n",
      "2 5 100\n",
      "[[0, 0], [2, 100], [5, 150]]\n",
      "1\n",
      "\n"
     ]
    }
   ],
   "source": [
    "import bisect\n",
    "\n",
    "dp = [[0, 0], [2, 100]]\n",
    "\n",
    "for s, e, p in [[2, 5, 50], [2, 5, 100]]:\n",
    "    print(\"JOB\")\n",
    "    print(s, e, p)\n",
    "    print(dp)\n",
    "    i = bisect.bisect(dp, [s + 1]) - 1\n",
    "    print(i)\n",
    "    print()\n",
    "    if dp[i][1] + p > dp[-1][1]:\n",
    "        dp.append([e, dp[i][1] + p])"
   ]
  },
  {
   "cell_type": "code",
   "execution_count": null,
   "metadata": {},
   "outputs": [],
   "source": [
    "startTime = [2, 2]\n",
    "endTime = [5, 5]\n",
    "profit = [50, 100]\n",
    "jobs = sorted(zip(startTime, endTime, profit), key=lambda v: v[1])"
   ]
  },
  {
   "cell_type": "code",
   "execution_count": null,
   "metadata": {},
   "outputs": [],
   "source": [
    "import array\n",
    "\n",
    "test = array.array(\"i\", [1, 2, 3])"
   ]
  },
  {
   "cell_type": "code",
   "execution_count": null,
   "metadata": {},
   "outputs": [
    {
     "data": {
      "text/plain": [
       "(5, '101')"
      ]
     },
     "metadata": {},
     "output_type": "display_data"
    }
   ],
   "source": [
    "num = 5\n",
    "bin_num = bin(num)[2:]\n",
    "num, bin_num"
   ]
  },
  {
   "cell_type": "code",
   "execution_count": null,
   "metadata": {},
   "outputs": [],
   "source": [
    "num = 16"
   ]
  },
  {
   "cell_type": "code",
   "execution_count": null,
   "metadata": {},
   "outputs": [
    {
     "data": {
      "text/plain": [
       "True"
      ]
     },
     "metadata": {},
     "output_type": "display_data"
    }
   ],
   "source": [
    "(num & num - 1) == 0"
   ]
  },
  {
   "cell_type": "code",
   "execution_count": null,
   "metadata": {},
   "outputs": [
    {
     "name": "stdout",
     "output_type": "stream",
     "text": [
      "Time taken: 23.80 seconds\n"
     ]
    }
   ],
   "source": [
    "# Time how long it takes to iterate a billion times\n",
    "import time\n",
    "\n",
    "start = time.time()\n",
    "for i in range(int(1e9)):\n",
    "    pass\n",
    "\n",
    "end = time.time()\n",
    "time_taken = end - start\n",
    "\n",
    "print(f\"Time taken: {time_taken:.2f} seconds\")"
   ]
  },
  {
   "cell_type": "code",
   "execution_count": null,
   "metadata": {},
   "outputs": [
    {
     "name": "stdout",
     "output_type": "stream",
     "text": [
      "Testing list size: 100\n",
      "  Zip: 0.000009 seconds\n",
      "  Loop: 0.000008 seconds\n",
      "  Pairwise: 0.000009 seconds\n",
      "  Traditional: 0.000004 seconds\n",
      "Testing list size: 1000\n",
      "  Zip: 0.000079 seconds\n",
      "  Loop: 0.000091 seconds\n",
      "  Pairwise: 0.000083 seconds\n",
      "  Traditional: 0.000055 seconds\n",
      "Testing list size: 10000\n",
      "  Zip: 0.000765 seconds\n",
      "  Loop: 0.000803 seconds\n",
      "  Pairwise: 0.000642 seconds\n",
      "  Traditional: 0.000431 seconds\n",
      "Testing list size: 100000\n",
      "  Zip: 0.006581 seconds\n",
      "  Loop: 0.007672 seconds\n",
      "  Pairwise: 0.006623 seconds\n",
      "  Traditional: 0.004533 seconds\n",
      "Testing list size: 1000000\n",
      "  Zip: 0.085022 seconds\n",
      "  Loop: 0.090309 seconds\n",
      "  Pairwise: 0.081654 seconds\n",
      "  Traditional: 0.057295 seconds\n",
      "Testing list size: 100000000\n",
      "  Zip: 14.503033 seconds\n",
      "  Loop: 10.711532 seconds\n",
      "  Pairwise: 22.108157 seconds\n",
      "  Traditional: 6.894970 seconds\n",
      "Graph saved as 'performance_comparison.png'\n"
     ]
    }
   ],
   "source": [
    "import timeit\n",
    "import random\n",
    "from itertools import pairwise\n",
    "import matplotlib.pyplot as plt\n",
    "\n",
    "\n",
    "def smallest_diff_zip(sorted_list):\n",
    "    return min(b - a for a, b in zip(sorted_list, sorted_list[1:]))\n",
    "\n",
    "\n",
    "def smallest_diff_loop(sorted_list):\n",
    "    return min(sorted_list[i + 1] - sorted_list[i] for i in range(len(sorted_list) - 1))\n",
    "\n",
    "\n",
    "def smallest_diff_pairwise(sorted_list):\n",
    "    return min(b - a for a, b in pairwise(sorted_list))\n",
    "\n",
    "\n",
    "def smallest_diff_traditional(sorted_list):\n",
    "    if len(sorted_list) < 2:\n",
    "        return None\n",
    "    smallest = float(\"inf\")\n",
    "    for i in range(1, len(sorted_list)):\n",
    "        diff = sorted_list[i] - sorted_list[i - 1]\n",
    "        if diff < smallest:\n",
    "            smallest = diff\n",
    "    return smallest\n",
    "\n",
    "\n",
    "def test_performance(func, list_size, num_tests=10):\n",
    "    test_list = sorted(random.randint(0, 1000000) for _ in range(list_size))\n",
    "    return timeit.timeit(lambda: func(test_list), number=num_tests) / num_tests\n",
    "\n",
    "\n",
    "# List sizes to test\n",
    "sizes = [100, 1000, 10000, 100000, 1_000_000, 100_000_000]\n",
    "\n",
    "# Test each function\n",
    "methods = [\n",
    "    (\"Zip\", smallest_diff_zip),\n",
    "    (\"Loop\", smallest_diff_loop),\n",
    "    (\"Pairwise\", smallest_diff_pairwise),\n",
    "    (\"Traditional\", smallest_diff_traditional),\n",
    "]\n",
    "\n",
    "results = {method: [] for method, _ in methods}\n",
    "\n",
    "for size in sizes:\n",
    "    print(f\"Testing list size: {size}\")\n",
    "    for method_name, func in methods:\n",
    "        time = test_performance(func, size)\n",
    "        results[method_name].append(time)\n",
    "        print(f\"  {method_name}: {time:.6f} seconds\")\n",
    "\n",
    "# Plotting\n",
    "plt.figure(figsize=(12, 6))\n",
    "for method_name, times in results.items():\n",
    "    plt.plot(sizes, times, marker=\"o\", label=method_name)\n",
    "\n",
    "plt.xscale(\"log\")\n",
    "plt.yscale(\"log\")\n",
    "plt.xlabel(\"List Size\")\n",
    "plt.ylabel(\"Execution Time (seconds)\")\n",
    "plt.title(\"Performance Comparison of Smallest Difference Methods\")\n",
    "plt.legend()\n",
    "plt.grid(True)\n",
    "\n",
    "plt.savefig(\"performance_comparison.png\")\n",
    "plt.close()\n",
    "\n",
    "print(\"Graph saved as 'performance_comparison.png'\")"
   ]
  },
  {
   "cell_type": "code",
   "execution_count": null,
   "metadata": {},
   "outputs": [
    {
     "ename": "ImportError",
     "evalue": "cannot import name 'timer' from 'contextlib' (/opt/homebrew/Cellar/python@3.12/3.12.4/Frameworks/Python.framework/Versions/3.12/lib/python3.12/contextlib.py)",
     "output_type": "error",
     "traceback": [
      "\u001b[0;31m---------------------------------------------------------------------------\u001b[0m\n",
      "\u001b[0;31mImportError\u001b[0m                               Traceback (most recent call last)\n",
      "Cell \u001b[0;32mIn[16], line 1\u001b[0m\n",
      "\u001b[0;32m----> 1\u001b[0m \u001b[38;5;28;01mfrom\u001b[39;00m \u001b[38;5;21;01mcontextlib\u001b[39;00m \u001b[38;5;28;01mimport\u001b[39;00m timer\n",
      "\u001b[1;32m      3\u001b[0m \u001b[38;5;28;01mwith\u001b[39;00m timer() \u001b[38;5;28;01mas\u001b[39;00m t:\n",
      "\u001b[1;32m      4\u001b[0m     \u001b[38;5;66;03m# ... code to time ...\u001b[39;00m\n",
      "\u001b[1;32m      5\u001b[0m     \u001b[38;5;28mprint\u001b[39m(\u001b[38;5;241m2\u001b[39m\u001b[38;5;241m+\u001b[39m\u001b[38;5;241m2\u001b[39m)\n",
      "\n",
      "\u001b[0;31mImportError\u001b[0m: cannot import name 'timer' from 'contextlib' (/opt/homebrew/Cellar/python@3.12/3.12.4/Frameworks/Python.framework/Versions/3.12/lib/python3.12/contextlib.py)"
     ]
    }
   ],
   "source": [
    "from contextlib import timer\n",
    "\n",
    "with timer() as t:\n",
    "    # ... code to time ...\n",
    "    print(2 + 2)\n",
    "print(f\"Execution time: {t.elapsed} seconds\")"
   ]
  },
  {
   "cell_type": "code",
   "execution_count": null,
   "metadata": {},
   "outputs": [],
   "source": [
    "from typing import List\n",
    "\n",
    "import heapq\n",
    "\n",
    "[6, 6, 0, 1, 1, 4, 6]\n",
    "\n",
    "import heapq\n",
    "\n",
    "\n",
    "class Solution:\n",
    "    def minDifference(self, nums: List[int]) -> int:\n",
    "        heapq.heapify(nums)  # O(n) time\n",
    "        small = heapq.nsmallest(4, nums)  # O(logn) time\n",
    "        large = heapq.nlargest(4, nums)  # O(logn) time\n",
    "        large.reverse()  # O(n) time\n",
    "        return min(x - y for x, y in zip(large, small))  # O(1) time\n",
    "\n",
    "\n",
    "class Solution1:\n",
    "    def minDifference(self, nums: List[int]) -> int:\n",
    "        nums_size = len(nums)\n",
    "        if nums_size <= 4:\n",
    "            return 0\n",
    "\n",
    "        # Find the four smallest elements\n",
    "        smallest_four = sorted(heapq.nsmallest(4, nums))\n",
    "\n",
    "        # Find the four largest elements\n",
    "        largest_four = sorted(heapq.nlargest(4, nums))\n",
    "\n",
    "        min_diff = float(\"inf\")\n",
    "        # Four scenarios to compute the minimum difference\n",
    "        for i in range(4):\n",
    "            min_diff = min(min_diff, largest_four[i] - smallest_four[i])\n",
    "\n",
    "        return min_diff"
   ]
  },
  {
   "cell_type": "code",
   "execution_count": 14,
   "metadata": {},
   "outputs": [
    {
     "name": "stdout",
     "output_type": "stream",
     "text": [
      "Time with heapify: 4.711101792010595\n",
      "Time without heapify: 2.393229875000543\n",
      "Difference: 2.317871917010052\n"
     ]
    }
   ],
   "source": [
    "import heapq\n",
    "import timeit\n",
    "import random\n",
    "\n",
    "\n",
    "def with_heapify(nums):\n",
    "    heapq.heapify(nums)\n",
    "    small = heapq.nsmallest(4, nums)\n",
    "    large = heapq.nlargest(4, nums)\n",
    "\n",
    "\n",
    "def without_heapify(nums):\n",
    "    small = heapq.nsmallest(4, nums)\n",
    "    large = heapq.nlargest(4, nums)\n",
    "\n",
    "\n",
    "# Test with a large random list of 100_000\n",
    "# test_list = list(range(100_000))\n",
    "test_list = [random.randint(0, 1_000_000) for _ in range(100_000)]\n",
    "\n",
    "# Time the function with heapify\n",
    "time_with = timeit.timeit(lambda: with_heapify(test_list.copy()), number=1_000)\n",
    "\n",
    "# Time the function without heapify\n",
    "time_without = timeit.timeit(lambda: without_heapify(test_list.copy()), number=1_000)\n",
    "\n",
    "print(f\"Time with heapify: {time_with}\")\n",
    "print(f\"Time without heapify: {time_without}\")\n",
    "print(f\"Difference: {time_with - time_without}\")"
   ]
  },
  {
   "cell_type": "code",
   "execution_count": 21,
   "metadata": {},
   "outputs": [
    {
     "data": {
      "text/plain": [
       "[10,\n",
       " 12,\n",
       " 18,\n",
       " 18,\n",
       " 19,\n",
       " 124,\n",
       " 281,\n",
       " 97,\n",
       " 232,\n",
       " 58,\n",
       " 46,\n",
       " 162,\n",
       " 225,\n",
       " 313,\n",
       " 356,\n",
       " 209,\n",
       " 143,\n",
       " 335,\n",
       " 246,\n",
       " 208,\n",
       " 87,\n",
       " 144,\n",
       " 66,\n",
       " 327,\n",
       " 172,\n",
       " 331,\n",
       " 450,\n",
       " 582,\n",
       " 487,\n",
       " 514,\n",
       " 413,\n",
       " 594,\n",
       " 448,\n",
       " 323,\n",
       " 162,\n",
       " 963,\n",
       " 399,\n",
       " 728,\n",
       " 791,\n",
       " 791,\n",
       " 301,\n",
       " 184,\n",
       " 866,\n",
       " 191,\n",
       " 571,\n",
       " 366,\n",
       " 125,\n",
       " 801,\n",
       " 465,\n",
       " 1415,\n",
       " 671,\n",
       " 1356,\n",
       " 1520,\n",
       " 1867,\n",
       " 597,\n",
       " 1092,\n",
       " 1331,\n",
       " 615,\n",
       " 696,\n",
       " 1142,\n",
       " 1179,\n",
       " 3014,\n",
       " 894,\n",
       " 1309,\n",
       " 621,\n",
       " 2009,\n",
       " 750,\n",
       " 800,\n",
       " 369,\n",
       " 431,\n",
       " 247,\n",
       " 1186,\n",
       " 1644,\n",
       " 1870,\n",
       " 1012,\n",
       " 1107,\n",
       " 1152,\n",
       " 1454,\n",
       " 1070,\n",
       " 1474,\n",
       " 1311,\n",
       " 328,\n",
       " 1316,\n",
       " 560,\n",
       " 332,\n",
       " 920,\n",
       " 929,\n",
       " 444,\n",
       " 1729,\n",
       " 654,\n",
       " 810,\n",
       " 1429,\n",
       " 589,\n",
       " 402,\n",
       " 736,\n",
       " 1736,\n",
       " 1305,\n",
       " 1320,\n",
       " 1960,\n",
       " 3135,\n",
       " 2372,\n",
       " 1898,\n",
       " 1167,\n",
       " 2158,\n",
       " 2698,\n",
       " 4376,\n",
       " 1749,\n",
       " 2850,\n",
       " 2644,\n",
       " 4080,\n",
       " 1362,\n",
       " 4383,\n",
       " 3501,\n",
       " 2812,\n",
       " 2137,\n",
       " 687,\n",
       " 1458,\n",
       " 1040,\n",
       " 2049,\n",
       " 3405,\n",
       " 1271,\n",
       " 2314,\n",
       " 3058,\n",
       " 3038,\n",
       " 5333,\n",
       " 1637,\n",
       " 1263,\n",
       " 1963,\n",
       " 2562,\n",
       " 1625,\n",
       " 6915,\n",
       " 4769,\n",
       " 3804,\n",
       " 1363,\n",
       " 2245,\n",
       " 1816,\n",
       " 929,\n",
       " 792,\n",
       " 2510,\n",
       " 1140,\n",
       " 719,\n",
       " 1760,\n",
       " 2390,\n",
       " 1527,\n",
       " 2093,\n",
       " 1788,\n",
       " 1755,\n",
       " 4295,\n",
       " 1992,\n",
       " 1406,\n",
       " 2552,\n",
       " 1140,\n",
       " 1635,\n",
       " 1391,\n",
       " 1198,\n",
       " 1642,\n",
       " 2377,\n",
       " 2367,\n",
       " 1397,\n",
       " 2055,\n",
       " 2116,\n",
       " 1487,\n",
       " 5384,\n",
       " 1612,\n",
       " 1218,\n",
       " 3685,\n",
       " 2504,\n",
       " 714,\n",
       " 1100,\n",
       " 1805,\n",
       " 472,\n",
       " 1945,\n",
       " 1362,\n",
       " 1028,\n",
       " 1069,\n",
       " 484,\n",
       " 1495,\n",
       " 2796,\n",
       " 3260,\n",
       " 2526,\n",
       " 1037,\n",
       " 1374,\n",
       " 1228,\n",
       " 2224,\n",
       " 1634,\n",
       " 816,\n",
       " 4078,\n",
       " 917,\n",
       " 1141,\n",
       " 1744,\n",
       " 1120,\n",
       " 2459,\n",
       " 1837,\n",
       " 1422,\n",
       " 2339,\n",
       " 1667,\n",
       " 1727,\n",
       " 4028,\n",
       " 4948,\n",
       " 6284,\n",
       " 5219,\n",
       " 4863,\n",
       " 4714,\n",
       " 2430,\n",
       " 1933,\n",
       " 1522,\n",
       " 2354,\n",
       " 3072,\n",
       " 3120,\n",
       " 5532,\n",
       " 5271,\n",
       " 6399,\n",
       " 5518,\n",
       " 3539,\n",
       " 2905,\n",
       " 7972,\n",
       " 3971,\n",
       " 2897,\n",
       " 3436,\n",
       " 4143,\n",
       " 4166,\n",
       " 5771,\n",
       " 1830,\n",
       " 7596,\n",
       " 4639,\n",
       " 3558,\n",
       " 3998,\n",
       " 3722,\n",
       " 5249,\n",
       " 2304,\n",
       " 7287,\n",
       " 3159,\n",
       " 1157,\n",
       " 3067,\n",
       " 3319,\n",
       " 3298,\n",
       " 3275,\n",
       " 2547,\n",
       " 2866,\n",
       " 3792,\n",
       " 6525,\n",
       " 3505,\n",
       " 1369,\n",
       " 2620,\n",
       " 6719,\n",
       " 3384,\n",
       " 4553,\n",
       " 7154,\n",
       " 10001,\n",
       " 14677,\n",
       " 9209,\n",
       " 1821,\n",
       " 3966,\n",
       " 4171,\n",
       " 4274,\n",
       " 2498,\n",
       " 3168,\n",
       " 4168,\n",
       " 3102,\n",
       " 3168,\n",
       " 1829,\n",
       " 8090,\n",
       " 7804,\n",
       " 6519,\n",
       " 9917,\n",
       " 4343,\n",
       " 4160,\n",
       " 3481,\n",
       " 1383,\n",
       " 4584,\n",
       " 2469,\n",
       " 3250,\n",
       " 2692,\n",
       " 2658,\n",
       " 2633,\n",
       " 2175,\n",
       " 3218,\n",
       " 6414,\n",
       " 8815,\n",
       " 3043,\n",
       " 4973,\n",
       " 1738,\n",
       " 1448,\n",
       " 1831,\n",
       " 2071,\n",
       " 2730,\n",
       " 2722,\n",
       " 2949,\n",
       " 1659,\n",
       " 3144,\n",
       " 3990,\n",
       " 1981,\n",
       " 1868,\n",
       " 2408,\n",
       " 7886,\n",
       " 5786,\n",
       " 6071,\n",
       " 2799,\n",
       " 6594,\n",
       " 1705,\n",
       " 3030,\n",
       " 3246,\n",
       " 2647,\n",
       " 3655,\n",
       " 6899,\n",
       " 6970,\n",
       " 3883,\n",
       " 1552,\n",
       " 4728,\n",
       " 9196,\n",
       " 1268,\n",
       " 2132,\n",
       " 2059,\n",
       " 3103,\n",
       " 4255,\n",
       " 4033,\n",
       " 2819,\n",
       " 2113,\n",
       " 2817,\n",
       " 2845,\n",
       " 2706,\n",
       " 2949,\n",
       " 2459,\n",
       " 1949,\n",
       " 3798,\n",
       " 6892,\n",
       " 5937,\n",
       " 4029,\n",
       " 2821,\n",
       " 2791,\n",
       " 5330,\n",
       " 6084,\n",
       " 3819,\n",
       " 3294,\n",
       " 4408,\n",
       " 1811,\n",
       " 901,\n",
       " 4448,\n",
       " 3541,\n",
       " 10083,\n",
       " 10317,\n",
       " 1646,\n",
       " 3902,\n",
       " 3196,\n",
       " 2567,\n",
       " 2120,\n",
       " 1504,\n",
       " 3718,\n",
       " 4641,\n",
       " 3011,\n",
       " 3492,\n",
       " 1749,\n",
       " 1209,\n",
       " 2645,\n",
       " 4076,\n",
       " 3854,\n",
       " 8125,\n",
       " 4451,\n",
       " 3559,\n",
       " 9022,\n",
       " 7623,\n",
       " 1243,\n",
       " 2812,\n",
       " 3424,\n",
       " 5415,\n",
       " 2519,\n",
       " 5268,\n",
       " 3471,\n",
       " 2467,\n",
       " 2099,\n",
       " 5297,\n",
       " 2424,\n",
       " 3596,\n",
       " 13054,\n",
       " 4974,\n",
       " 1795,\n",
       " 925,\n",
       " 3475,\n",
       " 4170,\n",
       " 2194,\n",
       " 1885,\n",
       " 1968,\n",
       " 2695,\n",
       " 3919,\n",
       " 5326,\n",
       " 5974,\n",
       " 3051,\n",
       " 1668,\n",
       " 2727,\n",
       " 2569,\n",
       " 6744,\n",
       " 4615,\n",
       " 7567,\n",
       " 11541,\n",
       " 6352,\n",
       " 7301,\n",
       " 4144,\n",
       " 17197,\n",
       " 9459,\n",
       " 13151,\n",
       " 8891,\n",
       " 5876,\n",
       " 7596,\n",
       " 7149,\n",
       " 15462,\n",
       " 13127,\n",
       " 8607,\n",
       " 4225,\n",
       " 6571,\n",
       " 6902,\n",
       " 5329,\n",
       " 11924,\n",
       " 6145,\n",
       " 7640,\n",
       " 2861,\n",
       " 4964,\n",
       " 4372,\n",
       " 4176,\n",
       " 9914,\n",
       " 8193,\n",
       " 11058,\n",
       " 8100,\n",
       " 5843,\n",
       " 8170,\n",
       " 8282,\n",
       " 6245,\n",
       " 7362,\n",
       " 9186,\n",
       " 4859,\n",
       " 4090,\n",
       " 7241,\n",
       " 9761,\n",
       " 11260,\n",
       " 5243,\n",
       " 10184,\n",
       " 3397,\n",
       " 3250,\n",
       " 3755,\n",
       " 3490,\n",
       " 6721,\n",
       " 4777,\n",
       " 8225,\n",
       " 4899,\n",
       " 11615,\n",
       " 7069,\n",
       " 4501,\n",
       " 2019,\n",
       " 18250,\n",
       " 12836,\n",
       " 7541,\n",
       " 7720,\n",
       " 7022,\n",
       " 5965,\n",
       " 4414,\n",
       " 8313,\n",
       " 3760,\n",
       " 5973,\n",
       " 9759,\n",
       " 9490,\n",
       " 8936,\n",
       " 2813,\n",
       " 24886,\n",
       " 7991,\n",
       " 3320,\n",
       " 7697,\n",
       " 7389,\n",
       " 1932,\n",
       " 11946,\n",
       " 3196,\n",
       " 7933,\n",
       " 9503,\n",
       " 12477,\n",
       " 4045,\n",
       " 6007,\n",
       " 5365,\n",
       " 3229,\n",
       " 6366,\n",
       " 6163,\n",
       " 3994,\n",
       " 5451,\n",
       " 4088,\n",
       " 11586,\n",
       " 7530,\n",
       " 3600,\n",
       " 4379,\n",
       " 3341,\n",
       " 10587,\n",
       " 3922,\n",
       " 7233,\n",
       " 9082,\n",
       " 11258,\n",
       " 3422,\n",
       " 9448,\n",
       " 6785,\n",
       " 8610,\n",
       " 9784,\n",
       " 11195,\n",
       " 11759,\n",
       " 11751,\n",
       " 17322,\n",
       " 27585,\n",
       " 17025,\n",
       " 9352,\n",
       " 1864,\n",
       " 5852,\n",
       " 4691,\n",
       " 11978,\n",
       " 5443,\n",
       " 5682,\n",
       " 7472,\n",
       " 7430,\n",
       " 6290,\n",
       " 5938,\n",
       " 4651,\n",
       " 9651,\n",
       " 8983,\n",
       " 4573,\n",
       " 8271,\n",
       " 8096,\n",
       " 3590,\n",
       " 7587,\n",
       " 2662,\n",
       " 2669,\n",
       " 11475,\n",
       " 9461,\n",
       " 7869,\n",
       " 8751,\n",
       " 19076,\n",
       " 12560,\n",
       " 11443,\n",
       " 19516,\n",
       " 15907,\n",
       " 6341,\n",
       " 6311,\n",
       " 6665,\n",
       " 14224,\n",
       " 4969,\n",
       " 4700,\n",
       " 1485,\n",
       " 6440,\n",
       " 6230,\n",
       " 9460,\n",
       " 14698,\n",
       " 11193,\n",
       " 3843,\n",
       " 5874,\n",
       " 3054,\n",
       " 3967,\n",
       " 3672,\n",
       " 4343,\n",
       " 3353,\n",
       " 3485,\n",
       " 9245,\n",
       " 7625,\n",
       " 4799,\n",
       " 7557,\n",
       " 7267,\n",
       " 9817,\n",
       " 9659,\n",
       " 3113,\n",
       " 9243,\n",
       " 6529,\n",
       " 6330,\n",
       " 4435,\n",
       " 5827,\n",
       " 4614,\n",
       " 2712,\n",
       " 3479,\n",
       " 3421,\n",
       " 3543,\n",
       " 2600,\n",
       " 6109,\n",
       " 6501,\n",
       " 6129,\n",
       " 4266,\n",
       " 4298,\n",
       " 6683,\n",
       " 1940,\n",
       " 6274,\n",
       " 7349,\n",
       " 6475,\n",
       " 10804,\n",
       " 5899,\n",
       " 3475,\n",
       " 4810,\n",
       " 5337,\n",
       " 8612,\n",
       " 14106,\n",
       " 11807,\n",
       " 18202,\n",
       " 7976,\n",
       " 7574,\n",
       " 10988,\n",
       " 6592,\n",
       " 9267,\n",
       " 4681,\n",
       " 9070,\n",
       " 9739,\n",
       " 7316,\n",
       " 2335,\n",
       " 3061,\n",
       " 6803,\n",
       " 11908,\n",
       " 6972,\n",
       " 4208,\n",
       " 6877,\n",
       " 4120,\n",
       " 4152,\n",
       " 6329,\n",
       " 7855,\n",
       " 15276,\n",
       " 12382,\n",
       " 16707,\n",
       " 5574,\n",
       " 4037,\n",
       " 6543,\n",
       " 2425,\n",
       " 5600,\n",
       " 7411,\n",
       " 10344,\n",
       " 24206,\n",
       " 4634,\n",
       " 2384,\n",
       " 2808,\n",
       " 4263,\n",
       " 8194,\n",
       " 4457,\n",
       " 4907,\n",
       " 7873,\n",
       " 14464,\n",
       " 11909,\n",
       " 18601,\n",
       " 6537,\n",
       " 6518,\n",
       " 7612,\n",
       " 5314,\n",
       " 2298,\n",
       " 3482,\n",
       " 3288,\n",
       " 9061,\n",
       " 3437,\n",
       " 4733,\n",
       " 3261,\n",
       " 3304,\n",
       " 4398,\n",
       " 2597,\n",
       " 3855,\n",
       " 4555,\n",
       " 17765,\n",
       " 5386,\n",
       " 4324,\n",
       " 7365,\n",
       " 11365,\n",
       " 9826,\n",
       " 7618,\n",
       " 9864,\n",
       " 13538,\n",
       " 5668,\n",
       " 3783,\n",
       " 7641,\n",
       " 3060,\n",
       " 8453,\n",
       " 15621,\n",
       " 7393,\n",
       " 10634,\n",
       " 4069,\n",
       " 6713,\n",
       " 10581,\n",
       " 3595,\n",
       " 5299,\n",
       " 4512,\n",
       " 9675,\n",
       " 3464,\n",
       " 3148,\n",
       " 8111,\n",
       " 5201,\n",
       " 7224,\n",
       " 5030,\n",
       " 7165,\n",
       " 11029,\n",
       " 11260,\n",
       " 13880,\n",
       " 15779,\n",
       " 5086,\n",
       " 1712,\n",
       " 7713,\n",
       " 9596,\n",
       " 3568,\n",
       " 5598,\n",
       " 7056,\n",
       " 3405,\n",
       " 3973,\n",
       " 3476,\n",
       " 3082,\n",
       " 3346,\n",
       " 3851,\n",
       " 3783,\n",
       " 6695,\n",
       " 4841,\n",
       " 3078,\n",
       " 11727,\n",
       " 5469,\n",
       " 4357,\n",
       " 4834,\n",
       " 2744,\n",
       " 1371,\n",
       " 5092,\n",
       " 6528,\n",
       " 15780,\n",
       " 10513,\n",
       " 4125,\n",
       " 9462,\n",
       " 15962,\n",
       " 12634,\n",
       " 13864,\n",
       " 12011,\n",
       " 6127,\n",
       " 10486,\n",
       " 6378,\n",
       " 13418,\n",
       " 15894,\n",
       " 10238,\n",
       " 14393,\n",
       " 9955,\n",
       " 13854,\n",
       " 6999,\n",
       " 3633,\n",
       " 17381,\n",
       " 9974,\n",
       " 5503,\n",
       " 12393,\n",
       " 10829,\n",
       " 6069,\n",
       " 5415,\n",
       " 7300,\n",
       " 4182,\n",
       " 3751,\n",
       " 3243,\n",
       " 2741,\n",
       " 5885,\n",
       " 2773,\n",
       " 5669,\n",
       " 8865,\n",
       " 5555,\n",
       " 3759,\n",
       " 6554,\n",
       " 4178,\n",
       " 13288,\n",
       " 14152,\n",
       " 10281,\n",
       " 30074,\n",
       " 9789,\n",
       " 3544,\n",
       " 23374,\n",
       " 7682,\n",
       " 9473,\n",
       " 6075,\n",
       " 6019,\n",
       " 8215,\n",
       " 3811,\n",
       " 2533,\n",
       " 6156,\n",
       " 3303,\n",
       " 5863,\n",
       " 2726,\n",
       " 2774,\n",
       " 5609,\n",
       " 6207,\n",
       " 4701,\n",
       " 10182,\n",
       " 6960,\n",
       " 9897,\n",
       " 8312,\n",
       " 5320,\n",
       " 4328,\n",
       " 2557,\n",
       " 3176,\n",
       " 16058,\n",
       " 4176,\n",
       " 7074,\n",
       " 27778,\n",
       " 31782,\n",
       " 9353,\n",
       " 11056,\n",
       " 14194,\n",
       " 30892,\n",
       " 9694,\n",
       " 18053,\n",
       " 15720,\n",
       " 10186,\n",
       " 18591,\n",
       " 11219,\n",
       " 17798,\n",
       " 5699,\n",
       " 9193,\n",
       " 21335,\n",
       " 21287,\n",
       " 21589,\n",
       " 22815,\n",
       " 14594,\n",
       " 16722,\n",
       " 11093,\n",
       " 10964,\n",
       " 20153,\n",
       " 12409,\n",
       " 23041,\n",
       " 13443,\n",
       " 18453,\n",
       " 11322,\n",
       " 16827,\n",
       " 20887,\n",
       " 22856,\n",
       " 42683,\n",
       " 14005,\n",
       " 8835,\n",
       " 17084,\n",
       " 4881,\n",
       " 7312,\n",
       " 28402,\n",
       " 7388,\n",
       " 12494,\n",
       " 15417,\n",
       " 5378,\n",
       " 18505,\n",
       " 45918,\n",
       " 23720,\n",
       " 27534,\n",
       " 9168,\n",
       " 8952,\n",
       " 9181,\n",
       " 5427,\n",
       " 7044,\n",
       " 6719,\n",
       " 8647,\n",
       " 9768,\n",
       " 6898,\n",
       " 8257,\n",
       " 17500,\n",
       " 10974,\n",
       " 15390,\n",
       " 20581,\n",
       " 11141,\n",
       " 28516,\n",
       " 20087,\n",
       " 18767,\n",
       " 6477,\n",
       " 8586,\n",
       " 16247,\n",
       " 13994,\n",
       " 14151,\n",
       " 8521,\n",
       " 6751,\n",
       " 6793,\n",
       " 14366,\n",
       " 15389,\n",
       " 16837,\n",
       " 11566,\n",
       " 9173,\n",
       " 7729,\n",
       " 16122,\n",
       " 9213,\n",
       " 11565,\n",
       " 13022,\n",
       " 18419,\n",
       " 12955,\n",
       " 36607,\n",
       " 19385,\n",
       " 18579,\n",
       " 8570,\n",
       " 19106,\n",
       " 20624,\n",
       " 5467,\n",
       " 22402,\n",
       " 6509,\n",
       " 9255,\n",
       " 37384,\n",
       " 6124,\n",
       " 13061,\n",
       " 14629,\n",
       " 6937,\n",
       " 10093,\n",
       " 11809,\n",
       " 6480,\n",
       " 17466,\n",
       " 14751,\n",
       " 10410,\n",
       " 12230,\n",
       " 32780,\n",
       " 15107,\n",
       " 11152,\n",
       " 18231,\n",
       " 6314,\n",
       " 5856,\n",
       " 4102,\n",
       " 2713,\n",
       " 18752,\n",
       " 23554,\n",
       " 18520,\n",
       " 13982,\n",
       " 15512,\n",
       " 8445,\n",
       " 25740,\n",
       " 7826,\n",
       " 14654,\n",
       " 7639,\n",
       " 11309,\n",
       " 11443,\n",
       " 7147,\n",
       " 23224,\n",
       " 8637,\n",
       " 11529,\n",
       " 7640,\n",
       " 29133,\n",
       " 14507,\n",
       " 16380,\n",
       " 11052,\n",
       " 10861,\n",
       " 10928,\n",
       " 27740,\n",
       " 12049,\n",
       " 13673,\n",
       " 30833,\n",
       " 3559,\n",
       " 33567,\n",
       " 25656,\n",
       " 11785,\n",
       " 13839,\n",
       " 6421,\n",
       " 8836,\n",
       " 14636,\n",
       " 61199,\n",
       " 7777,\n",
       " 13248,\n",
       " 2587,\n",
       " 24007,\n",
       " 15936,\n",
       " 12942,\n",
       " 6965,\n",
       " 6694,\n",
       " 27956,\n",
       " 17097,\n",
       " 14885,\n",
       " 16669,\n",
       " 15376,\n",
       " 13220,\n",
       " 12720,\n",
       " 14928,\n",
       " 9539,\n",
       " 36249,\n",
       " 7398,\n",
       " 8765,\n",
       " 22366,\n",
       " 7715,\n",
       " 14030,\n",
       " 10274,\n",
       " 14453,\n",
       " 6625,\n",
       " 9296,\n",
       " 4439,\n",
       " 8525,\n",
       " 29582,\n",
       " 14250,\n",
       " 5697,\n",
       " 14666,\n",
       " 14823,\n",
       " 32249,\n",
       " 13950,\n",
       " 3808,\n",
       " 5726,\n",
       " 6034,\n",
       " 24552,\n",
       " 4504,\n",
       " 4290,\n",
       " 14849,\n",
       " 25130,\n",
       " 10621,\n",
       " 5577,\n",
       " 21002,\n",
       " 13684,\n",
       " 13867,\n",
       " 13130,\n",
       " 13665,\n",
       " 20845,\n",
       " 12909,\n",
       " 12085,\n",
       " 15849,\n",
       " 10720,\n",
       " 14374,\n",
       " 14011,\n",
       " 9118,\n",
       " 15791,\n",
       " 17386,\n",
       " 11174,\n",
       " 11852,\n",
       " 23553,\n",
       " 14199,\n",
       " 25310,\n",
       " 11768,\n",
       " 18125,\n",
       " 22433,\n",
       " ...]"
      ]
     },
     "execution_count": 21,
     "metadata": {},
     "output_type": "execute_result"
    }
   ],
   "source": [
    "test_list = [random.randint(0, 1_000_000) for _ in range(100_000)]\n",
    "new_list = test_list.copy()\n",
    "heapq.heapify(new_list)\n",
    "\n",
    "new_list"
   ]
  },
  {
   "cell_type": "code",
   "execution_count": 12,
   "metadata": {},
   "outputs": [
    {
     "name": "stdout",
     "output_type": "stream",
     "text": [
      "731\n",
      "702\n",
      "28\n"
     ]
    }
   ],
   "source": [
    "def base26_to_base10(base26_str):\n",
    "    base10_num = 0\n",
    "    for i, char in enumerate(reversed(base26_str.upper())):\n",
    "        if not \"A\" <= char <= \"Z\":\n",
    "            raise ValueError(f\"Invalid character '{char}' in base26 string\")\n",
    "        digit_value = ord(char) - ord(\"A\") + 1\n",
    "        base10_num += digit_value * (26**i)\n",
    "    return base10_num\n",
    "\n",
    "\n",
    "# Test the function\n",
    "print(base26_to_base10(\"ABC\"))  # Should print 731\n",
    "print(base26_to_base10(\"ZZ\"))  # Should print 702\n",
    "print(base26_to_base10(\"AB\"))  # Should print 702"
   ]
  },
  {
   "cell_type": "code",
   "execution_count": 15,
   "metadata": {},
   "outputs": [
    {
     "data": {
      "text/plain": [
       "[3, 2, 1]"
      ]
     },
     "execution_count": 15,
     "metadata": {},
     "output_type": "execute_result"
    }
   ],
   "source": [
    "test = [1, 2, 3]\n",
    "\n",
    "test.reverse()\n",
    "\n",
    "test"
   ]
  },
  {
   "cell_type": "code",
   "execution_count": 22,
   "metadata": {},
   "outputs": [
    {
     "name": "stdout",
     "output_type": "stream",
     "text": [
      "1\n",
      "2\n",
      "3\n",
      "4\n",
      "5\n",
      "---\n",
      "1\n",
      "2\n",
      "3\n",
      "4\n",
      "5\n"
     ]
    },
    {
     "ename": "StopIteration",
     "evalue": "",
     "output_type": "error",
     "traceback": [
      "\u001b[0;31m---------------------------------------------------------------------------\u001b[0m",
      "\u001b[0;31mStopIteration\u001b[0m                             Traceback (most recent call last)",
      "Cell \u001b[0;32mIn[22], line 38\u001b[0m\n\u001b[1;32m     35\u001b[0m \u001b[38;5;28;01mfor\u001b[39;00m num \u001b[38;5;129;01min\u001b[39;00m gen:\n\u001b[1;32m     36\u001b[0m     \u001b[38;5;28mprint\u001b[39m(num)\n\u001b[0;32m---> 38\u001b[0m \u001b[38;5;28;43mnext\u001b[39;49m\u001b[43m(\u001b[49m\u001b[43mgen\u001b[49m\u001b[43m)\u001b[49m\n",
      "\u001b[0;31mStopIteration\u001b[0m: "
     ]
    }
   ],
   "source": [
    "# Custom Iterator\n",
    "class CountUpIterator:\n",
    "    def __init__(self, start, end):\n",
    "        self.current = start\n",
    "        self.end = end\n",
    "\n",
    "    def __iter__(self):\n",
    "        return self\n",
    "\n",
    "    def __next__(self):\n",
    "        if self.current > self.end:\n",
    "            raise StopIteration\n",
    "        else:\n",
    "            self.current += 1\n",
    "            return self.current - 1\n",
    "\n",
    "\n",
    "# Generator\n",
    "def count_up_generator(start, end):\n",
    "    current = start\n",
    "    while current <= end:\n",
    "        yield current\n",
    "        current += 1\n",
    "\n",
    "\n",
    "# Using the iterator\n",
    "test = CountUpIterator(1, 5)\n",
    "for num in test:\n",
    "    print(num)\n",
    "\n",
    "print(\"---\")\n",
    "\n",
    "# Using the generator\n",
    "gen = count_up_generator(1, 5)\n",
    "for num in gen:\n",
    "    print(num)\n",
    "\n",
    "next(gen)"
   ]
  },
  {
   "cell_type": "code",
   "execution_count": 36,
   "metadata": {},
   "outputs": [
    {
     "data": {
      "text/plain": [
       "True"
      ]
     },
     "execution_count": 36,
     "metadata": {},
     "output_type": "execute_result"
    }
   ],
   "source": [
    "test = \"ABC\"\n",
    "\n",
    "test.isalpha() and test.isupper()"
   ]
  },
  {
   "cell_type": "code",
   "execution_count": 19,
   "metadata": {},
   "outputs": [
    {
     "data": {
      "text/plain": [
       "(False, True, True)"
      ]
     },
     "execution_count": 19,
     "metadata": {},
     "output_type": "execute_result"
    }
   ],
   "source": [
    "test = \"1/\"\n",
    "d = test[:-1]\n",
    "d.islower(), d.isalnum(), d.isdigit()"
   ]
  },
  {
   "cell_type": "code",
   "execution_count": 1,
   "metadata": {},
   "outputs": [
    {
     "data": {
      "text/plain": [
       "deque(['f', '3', '3', '3', '3', 'i', 'h'])"
      ]
     },
     "execution_count": 1,
     "metadata": {},
     "output_type": "execute_result"
    }
   ],
   "source": [
    "from collections import deque\n",
    "\n",
    "stack = deque(\"f\")\n",
    "\n",
    "substring = \"hi\"\n",
    "substring += \"3\"\n",
    "substring += \"3\"\n",
    "substring += \"3\"\n",
    "substring += \"3\"\n",
    "\n",
    "stack.extend(reversed(substring))\n",
    "\n",
    "stack"
   ]
  },
  {
   "cell_type": "code",
   "execution_count": 22,
   "metadata": {},
   "outputs": [
    {
     "name": "stdout",
     "output_type": "stream",
     "text": [
      "6\n"
     ]
    }
   ],
   "source": [
    "from collections import Counter\n",
    "\n",
    "c = \"aaccasdsdvac\"\n",
    "\n",
    "cnt = Counter(c)\n",
    "\n",
    "result = 0\n",
    "for char, count in cnt.items():\n",
    "    result += count // 2\n",
    "    cnt[char] = count % 2\n",
    "\n",
    "if any(cnt.values()):\n",
    "    result += 1\n",
    "\n",
    "print(result)"
   ]
  },
  {
   "cell_type": "code",
   "execution_count": 36,
   "metadata": {},
   "outputs": [
    {
     "data": {
      "text/plain": [
       "Counter({'yo': 100, 'a': 4, 'c': 3, 's': 2, 'd': 2, 'v': 1})"
      ]
     },
     "execution_count": 36,
     "metadata": {},
     "output_type": "execute_result"
    }
   ],
   "source": [
    "c = \"aaccasdsdvac\"\n",
    "\n",
    "cnt = Counter(c)\n",
    "for char, count in cnt.copy().items():\n",
    "    cnt[\"yo\"] = 100\n",
    "\n",
    "cnt"
   ]
  },
  {
   "cell_type": "code",
   "execution_count": 40,
   "metadata": {},
   "outputs": [
    {
     "data": {
      "text/plain": [
       "10"
      ]
     },
     "execution_count": 40,
     "metadata": {},
     "output_type": "execute_result"
    }
   ],
   "source": [
    "from collections import defaultdict\n",
    "\n",
    "test = defaultdict(lambda: 10)\n",
    "\n",
    "test[4]"
   ]
  }
 ],
 "metadata": {
  "kernelspec": {
   "display_name": "Python 3",
   "language": "python",
   "name": "python3"
  },
  "language_info": {
   "codemirror_mode": {
    "name": "ipython",
    "version": 3
   },
   "file_extension": ".py",
   "mimetype": "text/x-python",
   "name": "python",
   "nbconvert_exporter": "python",
   "pygments_lexer": "ipython3",
   "version": "3.12.4"
  },
  "orig_nbformat": 4,
  "vscode": {
   "interpreter": {
    "hash": "aee8b7b246df8f9039afb4144a1f6fd8d2ca17a180786b69acc140d282b71a49"
   }
  }
 },
 "nbformat": 4,
 "nbformat_minor": 2
}
